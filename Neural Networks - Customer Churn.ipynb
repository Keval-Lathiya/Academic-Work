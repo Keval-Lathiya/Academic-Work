{
 "cells": [
  {
   "cell_type": "markdown",
   "id": "a0ba253b-0946-45c5-a846-87be96d3432f",
   "metadata": {},
   "source": [
    "\n",
    "# Neural Networks with Python - Customer Churn dataset\n",
    "#### In this jupyter notebook, I'm trying to predict which customers will leave the bank using neural network "
   ]
  },
  {
   "cell_type": "code",
   "execution_count": 1,
   "id": "347a5fab-5f8d-4fcf-b5fc-b18a2d8ed2de",
   "metadata": {},
   "outputs": [],
   "source": [
    "import pandas as pd\n",
    "import numpy as np\n",
    "import seaborn as sns\n",
    "import matplotlib.pyplot as plt\n",
    "%matplotlib inline"
   ]
  },
  {
   "cell_type": "code",
   "execution_count": 2,
   "id": "85907cd8-07b3-4483-bde6-2a7de67b62eb",
   "metadata": {},
   "outputs": [],
   "source": [
    "\n",
    "data = pd.read_csv(\"Churn_Modelling.csv\")"
   ]
  },
  {
   "cell_type": "code",
   "execution_count": 3,
   "id": "9f74c626-310e-4c7b-b0c8-da583a25df02",
   "metadata": {},
   "outputs": [
    {
     "data": {
      "text/html": [
       "<div>\n",
       "<style scoped>\n",
       "    .dataframe tbody tr th:only-of-type {\n",
       "        vertical-align: middle;\n",
       "    }\n",
       "\n",
       "    .dataframe tbody tr th {\n",
       "        vertical-align: top;\n",
       "    }\n",
       "\n",
       "    .dataframe thead th {\n",
       "        text-align: right;\n",
       "    }\n",
       "</style>\n",
       "<table border=\"1\" class=\"dataframe\">\n",
       "  <thead>\n",
       "    <tr style=\"text-align: right;\">\n",
       "      <th></th>\n",
       "      <th>CustomerId</th>\n",
       "      <th>Surname</th>\n",
       "      <th>CreditScore</th>\n",
       "      <th>Geography</th>\n",
       "      <th>Gender</th>\n",
       "      <th>Age</th>\n",
       "      <th>Tenure</th>\n",
       "      <th>Balance</th>\n",
       "      <th>NumOfProducts</th>\n",
       "      <th>HasCrCard</th>\n",
       "      <th>IsActiveMember</th>\n",
       "      <th>EstimatedSalary</th>\n",
       "      <th>Exited</th>\n",
       "    </tr>\n",
       "  </thead>\n",
       "  <tbody>\n",
       "    <tr>\n",
       "      <th>0</th>\n",
       "      <td>15634602</td>\n",
       "      <td>Hargrave</td>\n",
       "      <td>619</td>\n",
       "      <td>France</td>\n",
       "      <td>Female</td>\n",
       "      <td>42</td>\n",
       "      <td>2</td>\n",
       "      <td>0.00</td>\n",
       "      <td>1</td>\n",
       "      <td>1</td>\n",
       "      <td>1</td>\n",
       "      <td>101348.88</td>\n",
       "      <td>1</td>\n",
       "    </tr>\n",
       "    <tr>\n",
       "      <th>1</th>\n",
       "      <td>15647311</td>\n",
       "      <td>Hill</td>\n",
       "      <td>608</td>\n",
       "      <td>Spain</td>\n",
       "      <td>Female</td>\n",
       "      <td>41</td>\n",
       "      <td>1</td>\n",
       "      <td>83807.86</td>\n",
       "      <td>1</td>\n",
       "      <td>0</td>\n",
       "      <td>1</td>\n",
       "      <td>112542.58</td>\n",
       "      <td>0</td>\n",
       "    </tr>\n",
       "    <tr>\n",
       "      <th>2</th>\n",
       "      <td>15619304</td>\n",
       "      <td>Onio</td>\n",
       "      <td>502</td>\n",
       "      <td>France</td>\n",
       "      <td>Female</td>\n",
       "      <td>42</td>\n",
       "      <td>8</td>\n",
       "      <td>159660.80</td>\n",
       "      <td>3</td>\n",
       "      <td>1</td>\n",
       "      <td>0</td>\n",
       "      <td>113931.57</td>\n",
       "      <td>1</td>\n",
       "    </tr>\n",
       "    <tr>\n",
       "      <th>3</th>\n",
       "      <td>15701354</td>\n",
       "      <td>Boni</td>\n",
       "      <td>699</td>\n",
       "      <td>France</td>\n",
       "      <td>Female</td>\n",
       "      <td>39</td>\n",
       "      <td>1</td>\n",
       "      <td>0.00</td>\n",
       "      <td>2</td>\n",
       "      <td>0</td>\n",
       "      <td>0</td>\n",
       "      <td>93826.63</td>\n",
       "      <td>0</td>\n",
       "    </tr>\n",
       "    <tr>\n",
       "      <th>4</th>\n",
       "      <td>15737888</td>\n",
       "      <td>Mitchell</td>\n",
       "      <td>850</td>\n",
       "      <td>Spain</td>\n",
       "      <td>Female</td>\n",
       "      <td>43</td>\n",
       "      <td>2</td>\n",
       "      <td>125510.82</td>\n",
       "      <td>1</td>\n",
       "      <td>1</td>\n",
       "      <td>1</td>\n",
       "      <td>79084.10</td>\n",
       "      <td>0</td>\n",
       "    </tr>\n",
       "  </tbody>\n",
       "</table>\n",
       "</div>"
      ],
      "text/plain": [
       "   CustomerId   Surname  CreditScore Geography  Gender  Age  Tenure  \\\n",
       "0    15634602  Hargrave          619    France  Female   42       2   \n",
       "1    15647311      Hill          608     Spain  Female   41       1   \n",
       "2    15619304      Onio          502    France  Female   42       8   \n",
       "3    15701354      Boni          699    France  Female   39       1   \n",
       "4    15737888  Mitchell          850     Spain  Female   43       2   \n",
       "\n",
       "     Balance  NumOfProducts  HasCrCard  IsActiveMember  EstimatedSalary  \\\n",
       "0       0.00              1          1               1        101348.88   \n",
       "1   83807.86              1          0               1        112542.58   \n",
       "2  159660.80              3          1               0        113931.57   \n",
       "3       0.00              2          0               0         93826.63   \n",
       "4  125510.82              1          1               1         79084.10   \n",
       "\n",
       "   Exited  \n",
       "0       1  \n",
       "1       0  \n",
       "2       1  \n",
       "3       0  \n",
       "4       0  "
      ]
     },
     "execution_count": 3,
     "metadata": {},
     "output_type": "execute_result"
    }
   ],
   "source": [
    "data.head()"
   ]
  },
  {
   "cell_type": "code",
   "execution_count": 4,
   "id": "0cbd376c-29b3-4bc9-bb23-cc0e5931197d",
   "metadata": {},
   "outputs": [
    {
     "data": {
      "text/html": [
       "<div>\n",
       "<style scoped>\n",
       "    .dataframe tbody tr th:only-of-type {\n",
       "        vertical-align: middle;\n",
       "    }\n",
       "\n",
       "    .dataframe tbody tr th {\n",
       "        vertical-align: top;\n",
       "    }\n",
       "\n",
       "    .dataframe thead th {\n",
       "        text-align: right;\n",
       "    }\n",
       "</style>\n",
       "<table border=\"1\" class=\"dataframe\">\n",
       "  <thead>\n",
       "    <tr style=\"text-align: right;\">\n",
       "      <th></th>\n",
       "      <th>count</th>\n",
       "      <th>mean</th>\n",
       "      <th>std</th>\n",
       "      <th>min</th>\n",
       "      <th>25%</th>\n",
       "      <th>50%</th>\n",
       "      <th>75%</th>\n",
       "      <th>max</th>\n",
       "    </tr>\n",
       "  </thead>\n",
       "  <tbody>\n",
       "    <tr>\n",
       "      <th>CustomerId</th>\n",
       "      <td>10000.0</td>\n",
       "      <td>1.569094e+07</td>\n",
       "      <td>71936.186123</td>\n",
       "      <td>15565701.00</td>\n",
       "      <td>15628528.25</td>\n",
       "      <td>1.569074e+07</td>\n",
       "      <td>1.575323e+07</td>\n",
       "      <td>15815690.00</td>\n",
       "    </tr>\n",
       "    <tr>\n",
       "      <th>CreditScore</th>\n",
       "      <td>10000.0</td>\n",
       "      <td>6.505288e+02</td>\n",
       "      <td>96.653299</td>\n",
       "      <td>350.00</td>\n",
       "      <td>584.00</td>\n",
       "      <td>6.520000e+02</td>\n",
       "      <td>7.180000e+02</td>\n",
       "      <td>850.00</td>\n",
       "    </tr>\n",
       "    <tr>\n",
       "      <th>Age</th>\n",
       "      <td>10000.0</td>\n",
       "      <td>3.892180e+01</td>\n",
       "      <td>10.487806</td>\n",
       "      <td>18.00</td>\n",
       "      <td>32.00</td>\n",
       "      <td>3.700000e+01</td>\n",
       "      <td>4.400000e+01</td>\n",
       "      <td>92.00</td>\n",
       "    </tr>\n",
       "    <tr>\n",
       "      <th>Tenure</th>\n",
       "      <td>10000.0</td>\n",
       "      <td>5.012800e+00</td>\n",
       "      <td>2.892174</td>\n",
       "      <td>0.00</td>\n",
       "      <td>3.00</td>\n",
       "      <td>5.000000e+00</td>\n",
       "      <td>7.000000e+00</td>\n",
       "      <td>10.00</td>\n",
       "    </tr>\n",
       "    <tr>\n",
       "      <th>Balance</th>\n",
       "      <td>10000.0</td>\n",
       "      <td>7.648589e+04</td>\n",
       "      <td>62397.405202</td>\n",
       "      <td>0.00</td>\n",
       "      <td>0.00</td>\n",
       "      <td>9.719854e+04</td>\n",
       "      <td>1.276442e+05</td>\n",
       "      <td>250898.09</td>\n",
       "    </tr>\n",
       "    <tr>\n",
       "      <th>NumOfProducts</th>\n",
       "      <td>10000.0</td>\n",
       "      <td>1.530200e+00</td>\n",
       "      <td>0.581654</td>\n",
       "      <td>1.00</td>\n",
       "      <td>1.00</td>\n",
       "      <td>1.000000e+00</td>\n",
       "      <td>2.000000e+00</td>\n",
       "      <td>4.00</td>\n",
       "    </tr>\n",
       "    <tr>\n",
       "      <th>HasCrCard</th>\n",
       "      <td>10000.0</td>\n",
       "      <td>7.055000e-01</td>\n",
       "      <td>0.455840</td>\n",
       "      <td>0.00</td>\n",
       "      <td>0.00</td>\n",
       "      <td>1.000000e+00</td>\n",
       "      <td>1.000000e+00</td>\n",
       "      <td>1.00</td>\n",
       "    </tr>\n",
       "    <tr>\n",
       "      <th>IsActiveMember</th>\n",
       "      <td>10000.0</td>\n",
       "      <td>5.151000e-01</td>\n",
       "      <td>0.499797</td>\n",
       "      <td>0.00</td>\n",
       "      <td>0.00</td>\n",
       "      <td>1.000000e+00</td>\n",
       "      <td>1.000000e+00</td>\n",
       "      <td>1.00</td>\n",
       "    </tr>\n",
       "    <tr>\n",
       "      <th>EstimatedSalary</th>\n",
       "      <td>10000.0</td>\n",
       "      <td>1.000902e+05</td>\n",
       "      <td>57510.492818</td>\n",
       "      <td>11.58</td>\n",
       "      <td>51002.11</td>\n",
       "      <td>1.001939e+05</td>\n",
       "      <td>1.493882e+05</td>\n",
       "      <td>199992.48</td>\n",
       "    </tr>\n",
       "    <tr>\n",
       "      <th>Exited</th>\n",
       "      <td>10000.0</td>\n",
       "      <td>2.037000e-01</td>\n",
       "      <td>0.402769</td>\n",
       "      <td>0.00</td>\n",
       "      <td>0.00</td>\n",
       "      <td>0.000000e+00</td>\n",
       "      <td>0.000000e+00</td>\n",
       "      <td>1.00</td>\n",
       "    </tr>\n",
       "  </tbody>\n",
       "</table>\n",
       "</div>"
      ],
      "text/plain": [
       "                   count          mean           std          min  \\\n",
       "CustomerId       10000.0  1.569094e+07  71936.186123  15565701.00   \n",
       "CreditScore      10000.0  6.505288e+02     96.653299       350.00   \n",
       "Age              10000.0  3.892180e+01     10.487806        18.00   \n",
       "Tenure           10000.0  5.012800e+00      2.892174         0.00   \n",
       "Balance          10000.0  7.648589e+04  62397.405202         0.00   \n",
       "NumOfProducts    10000.0  1.530200e+00      0.581654         1.00   \n",
       "HasCrCard        10000.0  7.055000e-01      0.455840         0.00   \n",
       "IsActiveMember   10000.0  5.151000e-01      0.499797         0.00   \n",
       "EstimatedSalary  10000.0  1.000902e+05  57510.492818        11.58   \n",
       "Exited           10000.0  2.037000e-01      0.402769         0.00   \n",
       "\n",
       "                         25%           50%           75%          max  \n",
       "CustomerId       15628528.25  1.569074e+07  1.575323e+07  15815690.00  \n",
       "CreditScore           584.00  6.520000e+02  7.180000e+02       850.00  \n",
       "Age                    32.00  3.700000e+01  4.400000e+01        92.00  \n",
       "Tenure                  3.00  5.000000e+00  7.000000e+00        10.00  \n",
       "Balance                 0.00  9.719854e+04  1.276442e+05    250898.09  \n",
       "NumOfProducts           1.00  1.000000e+00  2.000000e+00         4.00  \n",
       "HasCrCard               0.00  1.000000e+00  1.000000e+00         1.00  \n",
       "IsActiveMember          0.00  1.000000e+00  1.000000e+00         1.00  \n",
       "EstimatedSalary     51002.11  1.001939e+05  1.493882e+05    199992.48  \n",
       "Exited                  0.00  0.000000e+00  0.000000e+00         1.00  "
      ]
     },
     "execution_count": 4,
     "metadata": {},
     "output_type": "execute_result"
    }
   ],
   "source": [
    "data.describe().transpose()"
   ]
  },
  {
   "cell_type": "code",
   "execution_count": 5,
   "id": "d4e326d0-6a82-4cfb-bfe6-636c24a71d5d",
   "metadata": {},
   "outputs": [
    {
     "data": {
      "text/plain": [
       "['CustomerId',\n",
       " 'Surname',\n",
       " 'CreditScore',\n",
       " 'Geography',\n",
       " 'Gender',\n",
       " 'Age',\n",
       " 'Tenure',\n",
       " 'Balance',\n",
       " 'NumOfProducts',\n",
       " 'HasCrCard',\n",
       " 'IsActiveMember',\n",
       " 'EstimatedSalary',\n",
       " 'Exited']"
      ]
     },
     "execution_count": 5,
     "metadata": {},
     "output_type": "execute_result"
    }
   ],
   "source": [
    "data.columns.tolist()"
   ]
  },
  {
   "cell_type": "code",
   "execution_count": 6,
   "id": "63860597-b0b5-4258-b68b-01d8323f94d3",
   "metadata": {},
   "outputs": [
    {
     "data": {
      "text/plain": [
       "CustomerId         0\n",
       "Surname            0\n",
       "CreditScore        0\n",
       "Geography          0\n",
       "Gender             0\n",
       "Age                0\n",
       "Tenure             0\n",
       "Balance            0\n",
       "NumOfProducts      0\n",
       "HasCrCard          0\n",
       "IsActiveMember     0\n",
       "EstimatedSalary    0\n",
       "Exited             0\n",
       "dtype: int64"
      ]
     },
     "execution_count": 6,
     "metadata": {},
     "output_type": "execute_result"
    }
   ],
   "source": [
    "data.isnull().sum()"
   ]
  },
  {
   "cell_type": "code",
   "execution_count": 7,
   "id": "9eb5603b-1ffd-4a85-939b-7a1c25382a36",
   "metadata": {},
   "outputs": [
    {
     "data": {
      "text/plain": [
       "<bound method DataFrame.info of       CustomerId    Surname  CreditScore Geography  Gender  Age  Tenure  \\\n",
       "0       15634602   Hargrave          619    France  Female   42       2   \n",
       "1       15647311       Hill          608     Spain  Female   41       1   \n",
       "2       15619304       Onio          502    France  Female   42       8   \n",
       "3       15701354       Boni          699    France  Female   39       1   \n",
       "4       15737888   Mitchell          850     Spain  Female   43       2   \n",
       "...          ...        ...          ...       ...     ...  ...     ...   \n",
       "9995    15606229   Obijiaku          771    France    Male   39       5   \n",
       "9996    15569892  Johnstone          516    France    Male   35      10   \n",
       "9997    15584532        Liu          709    France  Female   36       7   \n",
       "9998    15682355  Sabbatini          772   Germany    Male   42       3   \n",
       "9999    15628319     Walker          792    France  Female   28       4   \n",
       "\n",
       "        Balance  NumOfProducts  HasCrCard  IsActiveMember  EstimatedSalary  \\\n",
       "0          0.00              1          1               1        101348.88   \n",
       "1      83807.86              1          0               1        112542.58   \n",
       "2     159660.80              3          1               0        113931.57   \n",
       "3          0.00              2          0               0         93826.63   \n",
       "4     125510.82              1          1               1         79084.10   \n",
       "...         ...            ...        ...             ...              ...   \n",
       "9995       0.00              2          1               0         96270.64   \n",
       "9996   57369.61              1          1               1        101699.77   \n",
       "9997       0.00              1          0               1         42085.58   \n",
       "9998   75075.31              2          1               0         92888.52   \n",
       "9999  130142.79              1          1               0         38190.78   \n",
       "\n",
       "      Exited  \n",
       "0          1  \n",
       "1          0  \n",
       "2          1  \n",
       "3          0  \n",
       "4          0  \n",
       "...      ...  \n",
       "9995       0  \n",
       "9996       0  \n",
       "9997       1  \n",
       "9998       1  \n",
       "9999       0  \n",
       "\n",
       "[10000 rows x 13 columns]>"
      ]
     },
     "execution_count": 7,
     "metadata": {},
     "output_type": "execute_result"
    }
   ],
   "source": [
    "data.info"
   ]
  },
  {
   "cell_type": "code",
   "execution_count": 8,
   "id": "f4211d19-3904-4532-bd4f-683beec4d679",
   "metadata": {},
   "outputs": [
    {
     "data": {
      "image/png": "[encoded data removed]",
      "text/plain": [
       "<Figure size 432x288 with 1 Axes>"
      ]
     },
     "metadata": {
      "needs_background": "light"
     },
     "output_type": "display_data"
    }
   ],
   "source": [
    "sns.histplot(data = data, x = 'Exited', hue = 'HasCrCard', multiple='dodge', bins = 3);\n",
    "plt.xticks(ticks=[0, 1]);\n"
   ]
  },
  {
   "cell_type": "code",
   "execution_count": 9,
   "id": "7e93d305-5dc2-4c31-985b-5b1ca9858f3f",
   "metadata": {},
   "outputs": [
    {
     "data": {
      "image/png": "[encoded data removed]",
      "text/plain": [
       "<Figure size 421.25x360 with 1 Axes>"
      ]
     },
     "metadata": {
      "needs_background": "light"
     },
     "output_type": "display_data"
    }
   ],
   "source": [
    "data['Gender']=np.where(data['Gender']=='Female',1,0) \n",
    "\n",
    "sns.lmplot(data=data, x='Gender', y='IsActiveMember', hue='HasCrCard');"
   ]
  },
  {
   "cell_type": "code",
   "execution_count": 10,
   "id": "5032278d-fc69-42ee-b51c-2d35548e08e1",
   "metadata": {},
   "outputs": [
    {
     "data": {
      "text/html": [
       "<div>\n",
       "<style scoped>\n",
       "    .dataframe tbody tr th:only-of-type {\n",
       "        vertical-align: middle;\n",
       "    }\n",
       "\n",
       "    .dataframe tbody tr th {\n",
       "        vertical-align: top;\n",
       "    }\n",
       "\n",
       "    .dataframe thead th {\n",
       "        text-align: right;\n",
       "    }\n",
       "</style>\n",
       "<table border=\"1\" class=\"dataframe\">\n",
       "  <thead>\n",
       "    <tr style=\"text-align: right;\">\n",
       "      <th></th>\n",
       "      <th>Male</th>\n",
       "      <th>Germany</th>\n",
       "      <th>Spain</th>\n",
       "      <th>CustomerId</th>\n",
       "      <th>Surname</th>\n",
       "      <th>CreditScore</th>\n",
       "      <th>Geography</th>\n",
       "      <th>Gender</th>\n",
       "      <th>Age</th>\n",
       "      <th>Tenure</th>\n",
       "      <th>Balance</th>\n",
       "      <th>NumOfProducts</th>\n",
       "      <th>HasCrCard</th>\n",
       "      <th>IsActiveMember</th>\n",
       "      <th>EstimatedSalary</th>\n",
       "      <th>Exited</th>\n",
       "    </tr>\n",
       "  </thead>\n",
       "  <tbody>\n",
       "    <tr>\n",
       "      <th>0</th>\n",
       "      <td>0</td>\n",
       "      <td>0</td>\n",
       "      <td>0</td>\n",
       "      <td>15634602</td>\n",
       "      <td>Hargrave</td>\n",
       "      <td>619</td>\n",
       "      <td>France</td>\n",
       "      <td>1</td>\n",
       "      <td>42</td>\n",
       "      <td>2</td>\n",
       "      <td>0.00</td>\n",
       "      <td>1</td>\n",
       "      <td>1</td>\n",
       "      <td>1</td>\n",
       "      <td>101348.88</td>\n",
       "      <td>1</td>\n",
       "    </tr>\n",
       "    <tr>\n",
       "      <th>1</th>\n",
       "      <td>0</td>\n",
       "      <td>0</td>\n",
       "      <td>1</td>\n",
       "      <td>15647311</td>\n",
       "      <td>Hill</td>\n",
       "      <td>608</td>\n",
       "      <td>Spain</td>\n",
       "      <td>1</td>\n",
       "      <td>41</td>\n",
       "      <td>1</td>\n",
       "      <td>83807.86</td>\n",
       "      <td>1</td>\n",
       "      <td>0</td>\n",
       "      <td>1</td>\n",
       "      <td>112542.58</td>\n",
       "      <td>0</td>\n",
       "    </tr>\n",
       "    <tr>\n",
       "      <th>2</th>\n",
       "      <td>0</td>\n",
       "      <td>0</td>\n",
       "      <td>0</td>\n",
       "      <td>15619304</td>\n",
       "      <td>Onio</td>\n",
       "      <td>502</td>\n",
       "      <td>France</td>\n",
       "      <td>1</td>\n",
       "      <td>42</td>\n",
       "      <td>8</td>\n",
       "      <td>159660.80</td>\n",
       "      <td>3</td>\n",
       "      <td>1</td>\n",
       "      <td>0</td>\n",
       "      <td>113931.57</td>\n",
       "      <td>1</td>\n",
       "    </tr>\n",
       "    <tr>\n",
       "      <th>3</th>\n",
       "      <td>0</td>\n",
       "      <td>0</td>\n",
       "      <td>0</td>\n",
       "      <td>15701354</td>\n",
       "      <td>Boni</td>\n",
       "      <td>699</td>\n",
       "      <td>France</td>\n",
       "      <td>1</td>\n",
       "      <td>39</td>\n",
       "      <td>1</td>\n",
       "      <td>0.00</td>\n",
       "      <td>2</td>\n",
       "      <td>0</td>\n",
       "      <td>0</td>\n",
       "      <td>93826.63</td>\n",
       "      <td>0</td>\n",
       "    </tr>\n",
       "    <tr>\n",
       "      <th>4</th>\n",
       "      <td>0</td>\n",
       "      <td>0</td>\n",
       "      <td>1</td>\n",
       "      <td>15737888</td>\n",
       "      <td>Mitchell</td>\n",
       "      <td>850</td>\n",
       "      <td>Spain</td>\n",
       "      <td>1</td>\n",
       "      <td>43</td>\n",
       "      <td>2</td>\n",
       "      <td>125510.82</td>\n",
       "      <td>1</td>\n",
       "      <td>1</td>\n",
       "      <td>1</td>\n",
       "      <td>79084.10</td>\n",
       "      <td>0</td>\n",
       "    </tr>\n",
       "  </tbody>\n",
       "</table>\n",
       "</div>"
      ],
      "text/plain": [
       "   Male  Germany  Spain  CustomerId   Surname  CreditScore Geography  Gender  \\\n",
       "0     0        0      0    15634602  Hargrave          619    France       1   \n",
       "1     0        0      1    15647311      Hill          608     Spain       1   \n",
       "2     0        0      0    15619304      Onio          502    France       1   \n",
       "3     0        0      0    15701354      Boni          699    France       1   \n",
       "4     0        0      1    15737888  Mitchell          850     Spain       1   \n",
       "\n",
       "   Age  Tenure    Balance  NumOfProducts  HasCrCard  IsActiveMember  \\\n",
       "0   42       2       0.00              1          1               1   \n",
       "1   41       1   83807.86              1          0               1   \n",
       "2   42       8  159660.80              3          1               0   \n",
       "3   39       1       0.00              2          0               0   \n",
       "4   43       2  125510.82              1          1               1   \n",
       "\n",
       "   EstimatedSalary  Exited  \n",
       "0        101348.88       1  \n",
       "1        112542.58       0  \n",
       "2        113931.57       1  \n",
       "3         93826.63       0  \n",
       "4         79084.10       0  "
      ]
     },
     "execution_count": 10,
     "metadata": {},
     "output_type": "execute_result"
    }
   ],
   "source": [
    "\n",
    "data['Male'] = data['Surname'].apply(lambda x: 1 if x == 'Male' else 0)\n",
    "data['Germany'] = data['Geography'].apply(lambda x: 1 if x == 'Germany' else 0)\n",
    "data['Spain'] = data['Geography'].apply(lambda x: 1 if x == 'Spain' else 0)\n",
    "\n",
    "cols = ['Male', 'Germany', 'Spain'] + [col for col in data.columns if col not in ['Male', 'Germany', 'Spain']]\n",
    "data = data.reindex(columns=cols)\n",
    "\n",
    "data.head()\n"
   ]
  },
  {
   "cell_type": "code",
   "execution_count": 11,
   "id": "1e44b8dd-715d-4d91-996f-07f08b56448c",
   "metadata": {},
   "outputs": [],
   "source": [
    "data.drop(columns=['CustomerId','Surname','Geography','Gender'], inplace=True)"
   ]
  },
  {
   "cell_type": "code",
   "execution_count": 12,
   "id": "51d9a3a4-00cb-4474-8774-e3d8d07e7109",
   "metadata": {},
   "outputs": [],
   "source": [
    "X = data.drop('Exited', axis = 1)\n",
    "y = data['Exited']"
   ]
  },
  {
   "cell_type": "code",
   "execution_count": 13,
   "id": "a32e90fd-0b22-4381-9c3d-a78d981a5c4a",
   "metadata": {},
   "outputs": [],
   "source": [
    "\n",
    "from sklearn.model_selection import train_test_split\n",
    "from sklearn.linear_model import LogisticRegression\n",
    "\n"
   ]
  },
  {
   "cell_type": "code",
   "execution_count": 14,
   "id": "dd133e53-a45a-4dd9-b2f3-6b3b82dd1f57",
   "metadata": {},
   "outputs": [],
   "source": [
    "\n",
    "X_train, X_test, y_train, y_test = train_test_split(X, y, test_size=0.2, random_state= 0)"
   ]
  },
  {
   "cell_type": "code",
   "execution_count": 15,
   "id": "1afa0a20-c93b-43c8-b863-728da9c29f7b",
   "metadata": {},
   "outputs": [],
   "source": [
    "from sklearn.preprocessing import StandardScaler\n",
    "sc = StandardScaler()\n",
    "X_train = sc.fit_transform(X_train)\n",
    "X_test = sc.transform(X_test)"
   ]
  },
  {
   "cell_type": "markdown",
   "id": "0538957b-3fbf-4c86-8354-8ef388360009",
   "metadata": {},
   "source": [
    "## Model Creation"
   ]
  },
  {
   "cell_type": "code",
   "execution_count": 16,
   "id": "13ea4dbe-f6c4-4561-bc86-3628590bc781",
   "metadata": {},
   "outputs": [],
   "source": [
    "\n",
    "from keras.models import Sequential\n",
    "from keras.layers import Dense\n"
   ]
  },
  {
   "cell_type": "code",
   "execution_count": 17,
   "id": "19d1c967-c27b-4137-9b8e-3d0f2eec75fb",
   "metadata": {},
   "outputs": [],
   "source": [
    "\n",
    "classifier = Sequential()\n"
   ]
  },
  {
   "cell_type": "code",
   "execution_count": 18,
   "id": "5549ac87-8e49-43db-92da-fc2682af0844",
   "metadata": {},
   "outputs": [],
   "source": [
    "classifier.add(Dense(input_dim = 11, units = 6, activation = 'relu'))\n"
   ]
  },
  {
   "cell_type": "code",
   "execution_count": 19,
   "id": "16e78a9a-879f-4d41-b3db-0532f213a15c",
   "metadata": {},
   "outputs": [],
   "source": [
    "classifier.add(Dense(units = 6, activation = 'relu'))"
   ]
  },
  {
   "cell_type": "code",
   "execution_count": 20,
   "id": "781c3615-d703-494d-a1ce-e2b9f58795ee",
   "metadata": {},
   "outputs": [],
   "source": [
    "classifier.add(Dense(units = 1, activation = \"sigmoid\"))"
   ]
  },
  {
   "cell_type": "code",
   "execution_count": 21,
   "id": "f50751eb-752e-4a87-a3f8-010c0bab1aea",
   "metadata": {},
   "outputs": [],
   "source": [
    "classifier.compile(optimizer = 'adam', loss = 'binary_crossentropy', metrics = ['accuracy'])\n"
   ]
  },
  {
   "cell_type": "code",
   "execution_count": 22,
   "id": "154c03e5-dc5e-4227-8024-fa3be200bd0c",
   "metadata": {},
   "outputs": [
    {
     "name": "stdout",
     "output_type": "stream",
     "text": [
      "Epoch 1/50\n",
      "800/800 [==============================] - 6s 3ms/step - loss: 0.4867 - accuracy: 0.7960\n",
      "Epoch 2/50\n",
      "800/800 [==============================] - 3s 3ms/step - loss: 0.4460 - accuracy: 0.7968\n",
      "Epoch 3/50\n",
      "800/800 [==============================] - 2s 3ms/step - loss: 0.4300 - accuracy: 0.8102\n",
      "Epoch 4/50\n",
      "800/800 [==============================] - 2s 3ms/step - loss: 0.4169 - accuracy: 0.8188\n",
      "Epoch 5/50\n",
      "800/800 [==============================] - 3s 3ms/step - loss: 0.4041 - accuracy: 0.8232\n",
      "Epoch 6/50\n",
      "800/800 [==============================] - 3s 3ms/step - loss: 0.3929 - accuracy: 0.8335\n",
      "Epoch 7/50\n",
      "800/800 [==============================] - 2s 3ms/step - loss: 0.3839 - accuracy: 0.8385\n",
      "Epoch 8/50\n",
      "800/800 [==============================] - 3s 3ms/step - loss: 0.3764 - accuracy: 0.8424\n",
      "Epoch 9/50\n",
      "800/800 [==============================] - 2s 3ms/step - loss: 0.3701 - accuracy: 0.8453\n",
      "Epoch 10/50\n",
      "800/800 [==============================] - 2s 3ms/step - loss: 0.3649 - accuracy: 0.8470\n",
      "Epoch 11/50\n",
      "800/800 [==============================] - 3s 3ms/step - loss: 0.3611 - accuracy: 0.8514\n",
      "Epoch 12/50\n",
      "800/800 [==============================] - 3s 4ms/step - loss: 0.3586 - accuracy: 0.8520\n",
      "Epoch 13/50\n",
      "800/800 [==============================] - 3s 4ms/step - loss: 0.3565 - accuracy: 0.8522\n",
      "Epoch 14/50\n",
      "800/800 [==============================] - 3s 4ms/step - loss: 0.3544 - accuracy: 0.8553\n",
      "Epoch 15/50\n",
      "800/800 [==============================] - 3s 3ms/step - loss: 0.3537 - accuracy: 0.8574\n",
      "Epoch 16/50\n",
      "800/800 [==============================] - 3s 3ms/step - loss: 0.3530 - accuracy: 0.8551\n",
      "Epoch 17/50\n",
      "800/800 [==============================] - 3s 4ms/step - loss: 0.3518 - accuracy: 0.8568\n",
      "Epoch 18/50\n",
      "800/800 [==============================] - 4s 4ms/step - loss: 0.3518 - accuracy: 0.8577\n",
      "Epoch 19/50\n",
      "800/800 [==============================] - 3s 4ms/step - loss: 0.3507 - accuracy: 0.8587\n",
      "Epoch 20/50\n",
      "800/800 [==============================] - 3s 3ms/step - loss: 0.3508 - accuracy: 0.8568\n",
      "Epoch 21/50\n",
      "800/800 [==============================] - 3s 3ms/step - loss: 0.3492 - accuracy: 0.8583\n",
      "Epoch 22/50\n",
      "800/800 [==============================] - 3s 4ms/step - loss: 0.3493 - accuracy: 0.8594\n",
      "Epoch 23/50\n",
      "800/800 [==============================] - 3s 4ms/step - loss: 0.3482 - accuracy: 0.8590\n",
      "Epoch 24/50\n",
      "800/800 [==============================] - 3s 4ms/step - loss: 0.3478 - accuracy: 0.8596\n",
      "Epoch 25/50\n",
      "800/800 [==============================] - 3s 3ms/step - loss: 0.3474 - accuracy: 0.8599\n",
      "Epoch 26/50\n",
      "800/800 [==============================] - 3s 3ms/step - loss: 0.3466 - accuracy: 0.8599\n",
      "Epoch 27/50\n",
      "800/800 [==============================] - 3s 4ms/step - loss: 0.3456 - accuracy: 0.8606\n",
      "Epoch 28/50\n",
      "800/800 [==============================] - 3s 4ms/step - loss: 0.3458 - accuracy: 0.8597\n",
      "Epoch 29/50\n",
      "800/800 [==============================] - 3s 4ms/step - loss: 0.3452 - accuracy: 0.8600\n",
      "Epoch 30/50\n",
      "800/800 [==============================] - 3s 4ms/step - loss: 0.3456 - accuracy: 0.8609\n",
      "Epoch 31/50\n",
      "800/800 [==============================] - 3s 3ms/step - loss: 0.3449 - accuracy: 0.8593\n",
      "Epoch 32/50\n",
      "800/800 [==============================] - 3s 4ms/step - loss: 0.3442 - accuracy: 0.8610\n",
      "Epoch 33/50\n",
      "800/800 [==============================] - 4s 5ms/step - loss: 0.3439 - accuracy: 0.8620\n",
      "Epoch 34/50\n",
      "800/800 [==============================] - 3s 4ms/step - loss: 0.3435 - accuracy: 0.8595\n",
      "Epoch 35/50\n",
      "800/800 [==============================] - 4s 4ms/step - loss: 0.3432 - accuracy: 0.8626\n",
      "Epoch 36/50\n",
      "800/800 [==============================] - 3s 4ms/step - loss: 0.3433 - accuracy: 0.8622\n",
      "Epoch 37/50\n",
      "800/800 [==============================] - 3s 4ms/step - loss: 0.3427 - accuracy: 0.8622\n",
      "Epoch 38/50\n",
      "800/800 [==============================] - 3s 4ms/step - loss: 0.3423 - accuracy: 0.8622\n",
      "Epoch 39/50\n",
      "800/800 [==============================] - 3s 4ms/step - loss: 0.3420 - accuracy: 0.8610\n",
      "Epoch 40/50\n",
      "800/800 [==============================] - 3s 4ms/step - loss: 0.3413 - accuracy: 0.8630\n",
      "Epoch 41/50\n",
      "800/800 [==============================] - 3s 4ms/step - loss: 0.3411 - accuracy: 0.8625\n",
      "Epoch 42/50\n",
      "800/800 [==============================] - 4s 5ms/step - loss: 0.3405 - accuracy: 0.8614\n",
      "Epoch 43/50\n",
      "800/800 [==============================] - 4s 5ms/step - loss: 0.3409 - accuracy: 0.8643\n",
      "Epoch 44/50\n",
      "800/800 [==============================] - 4s 5ms/step - loss: 0.3400 - accuracy: 0.8627\n",
      "Epoch 45/50\n",
      "800/800 [==============================] - 3s 4ms/step - loss: 0.3399 - accuracy: 0.8631\n",
      "Epoch 46/50\n",
      "800/800 [==============================] - 3s 4ms/step - loss: 0.3394 - accuracy: 0.8606\n",
      "Epoch 47/50\n",
      "800/800 [==============================] - 4s 5ms/step - loss: 0.3395 - accuracy: 0.8629\n",
      "Epoch 48/50\n",
      "800/800 [==============================] - 4s 6ms/step - loss: 0.3385 - accuracy: 0.8619\n",
      "Epoch 49/50\n",
      "800/800 [==============================] - 3s 4ms/step - loss: 0.3383 - accuracy: 0.8639\n",
      "Epoch 50/50\n",
      "800/800 [==============================] - 3s 4ms/step - loss: 0.3380 - accuracy: 0.8637\n"
     ]
    },
    {
     "data": {
      "text/plain": [
       "<keras.callbacks.History at 0x1454da28c70>"
      ]
     },
     "execution_count": 22,
     "metadata": {},
     "output_type": "execute_result"
    }
   ],
   "source": [
    "classifier.fit(X_train, y_train, epochs = 50, batch_size=10)\n"
   ]
  },
  {
   "cell_type": "code",
   "execution_count": 23,
   "id": "ad0c2fc9-c6a2-414c-8a60-ee2531662b32",
   "metadata": {},
   "outputs": [
    {
     "name": "stdout",
     "output_type": "stream",
     "text": [
      "63/63 [==============================] - 1s 4ms/step\n"
     ]
    }
   ],
   "source": [
    "y_pred = classifier.predict(X_test)"
   ]
  },
  {
   "cell_type": "code",
   "execution_count": 24,
   "id": "3c76dfb1-2ba7-4f3a-859b-66436a15a2f5",
   "metadata": {},
   "outputs": [],
   "source": [
    "y_predict = (y_pred > 0.5) # Set the probability parameter of a customer with higher than 0.5\n"
   ]
  },
  {
   "cell_type": "code",
   "execution_count": 25,
   "id": "d5483b35-7d7d-4dc0-b721-cd56625968ed",
   "metadata": {},
   "outputs": [
    {
     "data": {
      "text/plain": [
       "array([[1542,   53],\n",
       "       [ 218,  187]], dtype=int64)"
      ]
     },
     "execution_count": 25,
     "metadata": {},
     "output_type": "execute_result"
    }
   ],
   "source": [
    "from sklearn.metrics import confusion_matrix\n",
    "confusion_matrix(y_test, y_predict)\n"
   ]
  },
  {
   "cell_type": "code",
   "execution_count": 26,
   "id": "bee73240-b638-45e1-b251-4dc2d2c3d46c",
   "metadata": {},
   "outputs": [
    {
     "name": "stdout",
     "output_type": "stream",
     "text": [
      "              precision    recall  f1-score   support\n",
      "\n",
      "           0       0.88      0.97      0.92      1595\n",
      "           1       0.78      0.46      0.58       405\n",
      "\n",
      "    accuracy                           0.86      2000\n",
      "   macro avg       0.83      0.71      0.75      2000\n",
      "weighted avg       0.86      0.86      0.85      2000\n",
      "\n"
     ]
    }
   ],
   "source": [
    "\n",
    "from sklearn.metrics import classification_report\n",
    "\n",
    "report = classification_report(y_test, y_predict)\n",
    "print(report)"
   ]
  },
  {
   "cell_type": "code",
   "execution_count": null,
   "id": "2ecbe94f-f7a2-4573-8aa3-db3d50f74c5a",
   "metadata": {},
   "outputs": [],
   "source": []
  },
  {
   "cell_type": "code",
   "execution_count": null,
   "id": "3243834b-dbe7-4131-bf22-b208be25352c",
   "metadata": {},
   "outputs": [],
   "source": []
  }
 ],
 "metadata": {
  "kernelspec": {
   "display_name": "Python 3 (ipykernel)",
   "language": "python",
   "name": "python3"
  },
  "language_info": {
   "codemirror_mode": {
    "name": "ipython",
    "version": 3
   },
   "file_extension": ".py",
   "mimetype": "text/x-python",
   "name": "python",
   "nbconvert_exporter": "python",
   "pygments_lexer": "ipython3",
   "version": "3.9.12"
  }
 },
 "nbformat": 4,
 "nbformat_minor": 5
}
