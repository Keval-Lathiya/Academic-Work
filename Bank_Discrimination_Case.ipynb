{
 "cells": [
  {
   "cell_type": "markdown",
   "id": "6c0621ff",
   "metadata": {},
   "source": [
    "### 1.1 Libraries"
   ]
  },
  {
   "cell_type": "code",
   "execution_count": 1,
   "id": "a09dfd35",
   "metadata": {},
   "outputs": [],
   "source": [
    "import pandas as pd\n",
    "import numpy as np\n",
    "from scipy import stats\n",
    "import statsmodels.stats.api as sms\n",
    "import matplotlib.pyplot as plt\n",
    "import seaborn as sns\n",
    "\n",
    "%matplotlib inline\n",
    "\n",
    "import statsmodels.formula.api as smf\n",
    "import sklearn as linear_regression"
   ]
  },
  {
   "cell_type": "code",
   "execution_count": 2,
   "id": "232e0c4f",
   "metadata": {},
   "outputs": [],
   "source": [
    "import warnings\n",
    "warnings.filterwarnings('ignore')"
   ]
  },
  {
   "cell_type": "markdown",
   "id": "34b7c6cb",
   "metadata": {},
   "source": [
    "### 1.2. Creating a DataFrame Object from csv file"
   ]
  },
  {
   "cell_type": "code",
   "execution_count": 3,
   "id": "5edbf89b",
   "metadata": {},
   "outputs": [
    {
     "name": "stdout",
     "output_type": "stream",
     "text": [
      "     Employee  EducLev  JobGrade  YrHired  Age  Gender  YrsPrior PCJob  Salary\n",
      "0           2        1         1       14   38  Female         1    No    32.0\n",
      "1           3        1         1       12   35  Female         0    No    39.1\n",
      "2           4        2         1        8   40  Female         7    No    33.2\n",
      "3           6        3         1        3   24  Female         0    No    30.6\n",
      "4           7        3         1        4   27  Female         0    No    29.0\n",
      "..        ...      ...       ...      ...  ...     ...       ...   ...     ...\n",
      "203       203        5         6       39   65    Male         0    No    95.0\n",
      "204       204        3         6       34   60    Male         0    No    97.0\n",
      "205       205        5         6       36   61    Male         0    No    88.0\n",
      "206       206        5         6       32   62    Male         0    No    94.0\n",
      "207       207        5         6       35   59    Male         0    No    30.0\n",
      "\n",
      "[208 rows x 9 columns]\n"
     ]
    }
   ],
   "source": [
    "data=pd.read_csv('Bank_Data.csv')\n",
    "data=data.dropna(axis=1,how='all') #to drop empty columns \n",
    "print(data)"
   ]
  },
  {
   "cell_type": "markdown",
   "id": "94117b06",
   "metadata": {},
   "source": [
    "### 1.3. Verifying Data Frame properties"
   ]
  },
  {
   "cell_type": "code",
   "execution_count": 4,
   "id": "8c2a54ee",
   "metadata": {},
   "outputs": [
    {
     "data": {
      "text/plain": [
       "(208, 9)"
      ]
     },
     "execution_count": 4,
     "metadata": {},
     "output_type": "execute_result"
    }
   ],
   "source": [
    "data.shape"
   ]
  },
  {
   "cell_type": "code",
   "execution_count": 5,
   "id": "71674f85",
   "metadata": {},
   "outputs": [
    {
     "name": "stdout",
     "output_type": "stream",
     "text": [
      "<class 'pandas.core.frame.DataFrame'>\n",
      "RangeIndex: 208 entries, 0 to 207\n",
      "Data columns (total 9 columns):\n",
      " #   Column    Non-Null Count  Dtype  \n",
      "---  ------    --------------  -----  \n",
      " 0   Employee  208 non-null    int64  \n",
      " 1   EducLev   208 non-null    int64  \n",
      " 2   JobGrade  208 non-null    int64  \n",
      " 3   YrHired   208 non-null    int64  \n",
      " 4   Age       208 non-null    int64  \n",
      " 5   Gender    208 non-null    object \n",
      " 6   YrsPrior  208 non-null    int64  \n",
      " 7   PCJob     208 non-null    object \n",
      " 8   Salary    208 non-null    float64\n",
      "dtypes: float64(1), int64(6), object(2)\n",
      "memory usage: 14.8+ KB\n"
     ]
    }
   ],
   "source": [
    "data.info()"
   ]
  },
  {
   "cell_type": "markdown",
   "id": "461c1fb0",
   "metadata": {},
   "source": [
    "### 1.4. Converting string values to categories"
   ]
  },
  {
   "cell_type": "code",
   "execution_count": 6,
   "id": "f36f29f1",
   "metadata": {},
   "outputs": [
    {
     "data": {
      "text/plain": [
       "0      Female\n",
       "1      Female\n",
       "2      Female\n",
       "3      Female\n",
       "4      Female\n",
       "        ...  \n",
       "203      Male\n",
       "204      Male\n",
       "205      Male\n",
       "206      Male\n",
       "207      Male\n",
       "Name: Gender, Length: 208, dtype: category\n",
       "Categories (2, object): ['Female', 'Male']"
      ]
     },
     "execution_count": 6,
     "metadata": {},
     "output_type": "execute_result"
    }
   ],
   "source": [
    "data['Gender'].astype('category') #add data['Gender'] instead of ['Sex']"
   ]
  },
  {
   "cell_type": "code",
   "execution_count": 7,
   "id": "72325799",
   "metadata": {},
   "outputs": [],
   "source": [
    "data['Gender']=data['Gender'].astype('category') \n",
    "data['PCJob']=data['PCJob'].astype('category')"
   ]
  },
  {
   "cell_type": "code",
   "execution_count": 8,
   "id": "fac6e7ce",
   "metadata": {},
   "outputs": [
    {
     "data": {
      "text/html": [
       "<div>\n",
       "<style scoped>\n",
       "    .dataframe tbody tr th:only-of-type {\n",
       "        vertical-align: middle;\n",
       "    }\n",
       "\n",
       "    .dataframe tbody tr th {\n",
       "        vertical-align: top;\n",
       "    }\n",
       "\n",
       "    .dataframe thead th {\n",
       "        text-align: right;\n",
       "    }\n",
       "</style>\n",
       "<table border=\"1\" class=\"dataframe\">\n",
       "  <thead>\n",
       "    <tr style=\"text-align: right;\">\n",
       "      <th></th>\n",
       "      <th>Gender</th>\n",
       "      <th>PCJob</th>\n",
       "    </tr>\n",
       "  </thead>\n",
       "  <tbody>\n",
       "    <tr>\n",
       "      <th>count</th>\n",
       "      <td>208</td>\n",
       "      <td>208</td>\n",
       "    </tr>\n",
       "    <tr>\n",
       "      <th>unique</th>\n",
       "      <td>2</td>\n",
       "      <td>2</td>\n",
       "    </tr>\n",
       "    <tr>\n",
       "      <th>top</th>\n",
       "      <td>Female</td>\n",
       "      <td>No</td>\n",
       "    </tr>\n",
       "    <tr>\n",
       "      <th>freq</th>\n",
       "      <td>140</td>\n",
       "      <td>189</td>\n",
       "    </tr>\n",
       "  </tbody>\n",
       "</table>\n",
       "</div>"
      ],
      "text/plain": [
       "        Gender PCJob\n",
       "count      208   208\n",
       "unique       2     2\n",
       "top     Female    No\n",
       "freq       140   189"
      ]
     },
     "execution_count": 8,
     "metadata": {},
     "output_type": "execute_result"
    }
   ],
   "source": [
    "data.describe(include='category')"
   ]
  },
  {
   "cell_type": "markdown",
   "id": "4c5eaf88",
   "metadata": {},
   "source": [
    "### 1.5. Type conversion using programming constructs"
   ]
  },
  {
   "cell_type": "code",
   "execution_count": 9,
   "id": "067bf3f9",
   "metadata": {},
   "outputs": [
    {
     "name": "stdout",
     "output_type": "stream",
     "text": [
      "<class 'pandas.core.frame.DataFrame'>\n",
      "RangeIndex: 208 entries, 0 to 207\n",
      "Data columns (total 9 columns):\n",
      " #   Column    Non-Null Count  Dtype   \n",
      "---  ------    --------------  -----   \n",
      " 0   Employee  208 non-null    int64   \n",
      " 1   EducLev   208 non-null    int64   \n",
      " 2   JobGrade  208 non-null    int64   \n",
      " 3   YrHired   208 non-null    int64   \n",
      " 4   Age       208 non-null    int64   \n",
      " 5   Gender    208 non-null    category\n",
      " 6   YrsPrior  208 non-null    int64   \n",
      " 7   PCJob     208 non-null    category\n",
      " 8   Salary    208 non-null    float64 \n",
      "dtypes: category(2), float64(1), int64(6)\n",
      "memory usage: 12.1 KB\n"
     ]
    }
   ],
   "source": [
    "for col in data[['Gender', 'PCJob']]:\n",
    "    data[col]=data[col].astype('category')\n",
    "    \n",
    "data.info()"
   ]
  },
  {
   "cell_type": "markdown",
   "id": "30106d6e",
   "metadata": {},
   "source": [
    "### 1.6. Basic descriptive statistics"
   ]
  },
  {
   "cell_type": "code",
   "execution_count": 10,
   "id": "4375a787",
   "metadata": {},
   "outputs": [
    {
     "data": {
      "text/plain": [
       "39.921923076923086"
      ]
     },
     "execution_count": 10,
     "metadata": {},
     "output_type": "execute_result"
    }
   ],
   "source": [
    "data['Salary'].mean()"
   ]
  },
  {
   "cell_type": "code",
   "execution_count": 11,
   "id": "cfb47288",
   "metadata": {},
   "outputs": [
    {
     "data": {
      "text/plain": [
       "(26.7, 39.921923076923086, 37.0, 97.0)"
      ]
     },
     "execution_count": 11,
     "metadata": {},
     "output_type": "execute_result"
    }
   ],
   "source": [
    "pay=data['Salary']\n",
    "pay.min(),pay.mean(),pay.median(), pay.max()"
   ]
  },
  {
   "cell_type": "markdown",
   "id": "29b5ef8d",
   "metadata": {},
   "source": [
    "### 1.7. Creating histogram using seaborn"
   ]
  },
  {
   "cell_type": "code",
   "execution_count": 12,
   "id": "788f7b37",
   "metadata": {},
   "outputs": [
    {
     "data": {
      "image/png": "[encoded data removed]",
      "text/plain": [
       "<Figure size 432x288 with 1 Axes>"
      ]
     },
     "metadata": {
      "needs_background": "light"
     },
     "output_type": "display_data"
    }
   ],
   "source": [
    "sns.histplot(x=data['Salary'], bins=10, kde=False);"
   ]
  },
  {
   "cell_type": "code",
   "execution_count": 13,
   "id": "2f052293",
   "metadata": {},
   "outputs": [
    {
     "data": {
      "image/png": "[encoded data removed]",
      "text/plain": [
       "<Figure size 432x288 with 1 Axes>"
      ]
     },
     "metadata": {
      "needs_background": "light"
     },
     "output_type": "display_data"
    }
   ],
   "source": [
    "sns.histplot(x=data['Salary'],bins=10,kde=True, color = 'Green');"
   ]
  },
  {
   "cell_type": "code",
   "execution_count": 14,
   "id": "b0c102d0",
   "metadata": {},
   "outputs": [
    {
     "data": {
      "image/png": "[encoded data removed]",
      "text/plain": [
       "<Figure size 432x288 with 1 Axes>"
      ]
     },
     "metadata": {
      "needs_background": "light"
     },
     "output_type": "display_data"
    }
   ],
   "source": [
    "sns.histplot(x=data['Salary'],bins=10,kde=False,stat='probability',color='Orange');"
   ]
  },
  {
   "cell_type": "markdown",
   "id": "611ee01c",
   "metadata": {},
   "source": [
    "### 1.8. Creating a boxplot using Seaborn"
   ]
  },
  {
   "cell_type": "code",
   "execution_count": 15,
   "id": "38b5c862",
   "metadata": {},
   "outputs": [
    {
     "data": {
      "image/png": "[encoded data removed]",
      "text/plain": [
       "<Figure size 432x288 with 1 Axes>"
      ]
     },
     "metadata": {
      "needs_background": "light"
     },
     "output_type": "display_data"
    }
   ],
   "source": [
    "sns.boxplot(x=data['Salary'], color = 'lightblue');"
   ]
  },
  {
   "cell_type": "code",
   "execution_count": 16,
   "id": "d91b2cfe",
   "metadata": {},
   "outputs": [
    {
     "data": {
      "image/png": "[encoded data removed]",
      "text/plain": [
       "<Figure size 432x288 with 1 Axes>"
      ]
     },
     "metadata": {
      "needs_background": "light"
     },
     "output_type": "display_data"
    }
   ],
   "source": [
    "sns.boxplot(y=data['Salary'], color='lightgreen', showcaps=True);"
   ]
  },
  {
   "cell_type": "markdown",
   "id": "b3c4de4e",
   "metadata": {},
   "source": [
    "### 1.9. Filtering the data by attributes\n"
   ]
  },
  {
   "cell_type": "code",
   "execution_count": 17,
   "id": "ab9386d5",
   "metadata": {},
   "outputs": [
    {
     "data": {
      "text/plain": [
       "0       True\n",
       "1       True\n",
       "2       True\n",
       "3       True\n",
       "4       True\n",
       "       ...  \n",
       "203    False\n",
       "204    False\n",
       "205    False\n",
       "206    False\n",
       "207    False\n",
       "Name: Gender, Length: 208, dtype: bool"
      ]
     },
     "execution_count": 17,
     "metadata": {},
     "output_type": "execute_result"
    }
   ],
   "source": [
    "data['Gender'] =='Female'"
   ]
  },
  {
   "cell_type": "code",
   "execution_count": 18,
   "id": "48fb74e8",
   "metadata": {},
   "outputs": [
    {
     "data": {
      "text/html": [
       "<div>\n",
       "<style scoped>\n",
       "    .dataframe tbody tr th:only-of-type {\n",
       "        vertical-align: middle;\n",
       "    }\n",
       "\n",
       "    .dataframe tbody tr th {\n",
       "        vertical-align: top;\n",
       "    }\n",
       "\n",
       "    .dataframe thead th {\n",
       "        text-align: right;\n",
       "    }\n",
       "</style>\n",
       "<table border=\"1\" class=\"dataframe\">\n",
       "  <thead>\n",
       "    <tr style=\"text-align: right;\">\n",
       "      <th></th>\n",
       "      <th>Employee</th>\n",
       "      <th>EducLev</th>\n",
       "      <th>JobGrade</th>\n",
       "      <th>YrHired</th>\n",
       "      <th>Age</th>\n",
       "      <th>Gender</th>\n",
       "      <th>YrsPrior</th>\n",
       "      <th>PCJob</th>\n",
       "      <th>Salary</th>\n",
       "    </tr>\n",
       "  </thead>\n",
       "  <tbody>\n",
       "    <tr>\n",
       "      <th>0</th>\n",
       "      <td>2</td>\n",
       "      <td>1</td>\n",
       "      <td>1</td>\n",
       "      <td>14</td>\n",
       "      <td>38</td>\n",
       "      <td>Female</td>\n",
       "      <td>1</td>\n",
       "      <td>No</td>\n",
       "      <td>32.00</td>\n",
       "    </tr>\n",
       "    <tr>\n",
       "      <th>1</th>\n",
       "      <td>3</td>\n",
       "      <td>1</td>\n",
       "      <td>1</td>\n",
       "      <td>12</td>\n",
       "      <td>35</td>\n",
       "      <td>Female</td>\n",
       "      <td>0</td>\n",
       "      <td>No</td>\n",
       "      <td>39.10</td>\n",
       "    </tr>\n",
       "    <tr>\n",
       "      <th>2</th>\n",
       "      <td>4</td>\n",
       "      <td>2</td>\n",
       "      <td>1</td>\n",
       "      <td>8</td>\n",
       "      <td>40</td>\n",
       "      <td>Female</td>\n",
       "      <td>7</td>\n",
       "      <td>No</td>\n",
       "      <td>33.20</td>\n",
       "    </tr>\n",
       "    <tr>\n",
       "      <th>3</th>\n",
       "      <td>6</td>\n",
       "      <td>3</td>\n",
       "      <td>1</td>\n",
       "      <td>3</td>\n",
       "      <td>24</td>\n",
       "      <td>Female</td>\n",
       "      <td>0</td>\n",
       "      <td>No</td>\n",
       "      <td>30.60</td>\n",
       "    </tr>\n",
       "    <tr>\n",
       "      <th>4</th>\n",
       "      <td>7</td>\n",
       "      <td>3</td>\n",
       "      <td>1</td>\n",
       "      <td>4</td>\n",
       "      <td>27</td>\n",
       "      <td>Female</td>\n",
       "      <td>0</td>\n",
       "      <td>No</td>\n",
       "      <td>29.00</td>\n",
       "    </tr>\n",
       "    <tr>\n",
       "      <th>...</th>\n",
       "      <td>...</td>\n",
       "      <td>...</td>\n",
       "      <td>...</td>\n",
       "      <td>...</td>\n",
       "      <td>...</td>\n",
       "      <td>...</td>\n",
       "      <td>...</td>\n",
       "      <td>...</td>\n",
       "      <td>...</td>\n",
       "    </tr>\n",
       "    <tr>\n",
       "      <th>135</th>\n",
       "      <td>123</td>\n",
       "      <td>3</td>\n",
       "      <td>3</td>\n",
       "      <td>3</td>\n",
       "      <td>27</td>\n",
       "      <td>Female</td>\n",
       "      <td>2</td>\n",
       "      <td>Yes</td>\n",
       "      <td>43.50</td>\n",
       "    </tr>\n",
       "    <tr>\n",
       "      <th>136</th>\n",
       "      <td>131</td>\n",
       "      <td>5</td>\n",
       "      <td>3</td>\n",
       "      <td>3</td>\n",
       "      <td>33</td>\n",
       "      <td>Female</td>\n",
       "      <td>5</td>\n",
       "      <td>Yes</td>\n",
       "      <td>42.00</td>\n",
       "    </tr>\n",
       "    <tr>\n",
       "      <th>137</th>\n",
       "      <td>163</td>\n",
       "      <td>3</td>\n",
       "      <td>4</td>\n",
       "      <td>19</td>\n",
       "      <td>59</td>\n",
       "      <td>Female</td>\n",
       "      <td>8</td>\n",
       "      <td>Yes</td>\n",
       "      <td>40.30</td>\n",
       "    </tr>\n",
       "    <tr>\n",
       "      <th>138</th>\n",
       "      <td>167</td>\n",
       "      <td>1</td>\n",
       "      <td>4</td>\n",
       "      <td>12</td>\n",
       "      <td>39</td>\n",
       "      <td>Female</td>\n",
       "      <td>4</td>\n",
       "      <td>Yes</td>\n",
       "      <td>44.00</td>\n",
       "    </tr>\n",
       "    <tr>\n",
       "      <th>139</th>\n",
       "      <td>169</td>\n",
       "      <td>3</td>\n",
       "      <td>4</td>\n",
       "      <td>14</td>\n",
       "      <td>40</td>\n",
       "      <td>Female</td>\n",
       "      <td>1</td>\n",
       "      <td>Yes</td>\n",
       "      <td>40.66</td>\n",
       "    </tr>\n",
       "  </tbody>\n",
       "</table>\n",
       "<p>140 rows × 9 columns</p>\n",
       "</div>"
      ],
      "text/plain": [
       "     Employee  EducLev  JobGrade  YrHired  Age  Gender  YrsPrior PCJob  Salary\n",
       "0           2        1         1       14   38  Female         1    No   32.00\n",
       "1           3        1         1       12   35  Female         0    No   39.10\n",
       "2           4        2         1        8   40  Female         7    No   33.20\n",
       "3           6        3         1        3   24  Female         0    No   30.60\n",
       "4           7        3         1        4   27  Female         0    No   29.00\n",
       "..        ...      ...       ...      ...  ...     ...       ...   ...     ...\n",
       "135       123        3         3        3   27  Female         2   Yes   43.50\n",
       "136       131        5         3        3   33  Female         5   Yes   42.00\n",
       "137       163        3         4       19   59  Female         8   Yes   40.30\n",
       "138       167        1         4       12   39  Female         4   Yes   44.00\n",
       "139       169        3         4       14   40  Female         1   Yes   40.66\n",
       "\n",
       "[140 rows x 9 columns]"
      ]
     },
     "execution_count": 18,
     "metadata": {},
     "output_type": "execute_result"
    }
   ],
   "source": [
    "data[data['Gender'] == 'Female']"
   ]
  },
  {
   "cell_type": "code",
   "execution_count": 19,
   "id": "ba7ec00e",
   "metadata": {},
   "outputs": [
    {
     "data": {
      "text/plain": [
       "pandas.core.frame.DataFrame"
      ]
     },
     "execution_count": 19,
     "metadata": {},
     "output_type": "execute_result"
    }
   ],
   "source": [
    "FemaleEmployees = data[data['Gender']=='Female']\n",
    "type(FemaleEmployees)"
   ]
  },
  {
   "cell_type": "code",
   "execution_count": 20,
   "id": "4359938d",
   "metadata": {},
   "outputs": [
    {
     "data": {
      "text/plain": [
       "34.66414285714287"
      ]
     },
     "execution_count": 20,
     "metadata": {},
     "output_type": "execute_result"
    }
   ],
   "source": [
    "FemaleEmployees['Salary'].mean()"
   ]
  },
  {
   "cell_type": "code",
   "execution_count": 21,
   "id": "33a2c8aa",
   "metadata": {},
   "outputs": [
    {
     "data": {
      "text/plain": [
       "34.66"
      ]
     },
     "execution_count": 21,
     "metadata": {},
     "output_type": "execute_result"
    }
   ],
   "source": [
    "round(FemaleEmployees['Salary'].mean(), 2)"
   ]
  },
  {
   "cell_type": "code",
   "execution_count": 22,
   "id": "4704c157",
   "metadata": {},
   "outputs": [
    {
     "data": {
      "text/plain": [
       "0       True\n",
       "1       True\n",
       "2      False\n",
       "3      False\n",
       "4      False\n",
       "       ...  \n",
       "203    False\n",
       "204    False\n",
       "205    False\n",
       "206    False\n",
       "207    False\n",
       "Length: 208, dtype: bool"
      ]
     },
     "execution_count": 22,
     "metadata": {},
     "output_type": "execute_result"
    }
   ],
   "source": [
    "(data['Gender']=='Female') & (data['EducLev'] == 1)"
   ]
  },
  {
   "cell_type": "markdown",
   "id": "92faadb1",
   "metadata": {},
   "source": [
    "### 2.0. Complex filtering"
   ]
  },
  {
   "cell_type": "code",
   "execution_count": 23,
   "id": "07721a73",
   "metadata": {},
   "outputs": [
    {
     "data": {
      "text/plain": [
       "(33, 9)"
      ]
     },
     "execution_count": 23,
     "metadata": {},
     "output_type": "execute_result"
    }
   ],
   "source": [
    "data[(data['Gender']=='Female') & (data['EducLev'] ==1)].shape"
   ]
  },
  {
   "cell_type": "code",
   "execution_count": 24,
   "id": "6362c7c3",
   "metadata": {},
   "outputs": [
    {
     "data": {
      "text/html": [
       "<div>\n",
       "<style scoped>\n",
       "    .dataframe tbody tr th:only-of-type {\n",
       "        vertical-align: middle;\n",
       "    }\n",
       "\n",
       "    .dataframe tbody tr th {\n",
       "        vertical-align: top;\n",
       "    }\n",
       "\n",
       "    .dataframe thead th {\n",
       "        text-align: right;\n",
       "    }\n",
       "</style>\n",
       "<table border=\"1\" class=\"dataframe\">\n",
       "  <thead>\n",
       "    <tr style=\"text-align: right;\">\n",
       "      <th></th>\n",
       "      <th>Employee</th>\n",
       "      <th>EducLev</th>\n",
       "      <th>JobGrade</th>\n",
       "      <th>YrHired</th>\n",
       "      <th>Age</th>\n",
       "      <th>Gender</th>\n",
       "      <th>YrsPrior</th>\n",
       "      <th>PCJob</th>\n",
       "      <th>Salary</th>\n",
       "    </tr>\n",
       "  </thead>\n",
       "  <tbody>\n",
       "    <tr>\n",
       "      <th>53</th>\n",
       "      <td>80</td>\n",
       "      <td>5</td>\n",
       "      <td>2</td>\n",
       "      <td>8</td>\n",
       "      <td>40</td>\n",
       "      <td>Female</td>\n",
       "      <td>0</td>\n",
       "      <td>No</td>\n",
       "      <td>29.65</td>\n",
       "    </tr>\n",
       "    <tr>\n",
       "      <th>55</th>\n",
       "      <td>82</td>\n",
       "      <td>5</td>\n",
       "      <td>2</td>\n",
       "      <td>4</td>\n",
       "      <td>29</td>\n",
       "      <td>Female</td>\n",
       "      <td>4</td>\n",
       "      <td>No</td>\n",
       "      <td>29.80</td>\n",
       "    </tr>\n",
       "    <tr>\n",
       "      <th>58</th>\n",
       "      <td>90</td>\n",
       "      <td>5</td>\n",
       "      <td>2</td>\n",
       "      <td>3</td>\n",
       "      <td>35</td>\n",
       "      <td>Female</td>\n",
       "      <td>2</td>\n",
       "      <td>No</td>\n",
       "      <td>29.60</td>\n",
       "    </tr>\n",
       "    <tr>\n",
       "      <th>61</th>\n",
       "      <td>97</td>\n",
       "      <td>4</td>\n",
       "      <td>2</td>\n",
       "      <td>5</td>\n",
       "      <td>29</td>\n",
       "      <td>Female</td>\n",
       "      <td>0</td>\n",
       "      <td>No</td>\n",
       "      <td>33.00</td>\n",
       "    </tr>\n",
       "    <tr>\n",
       "      <th>67</th>\n",
       "      <td>105</td>\n",
       "      <td>5</td>\n",
       "      <td>3</td>\n",
       "      <td>7</td>\n",
       "      <td>32</td>\n",
       "      <td>Female</td>\n",
       "      <td>3</td>\n",
       "      <td>No</td>\n",
       "      <td>41.40</td>\n",
       "    </tr>\n",
       "    <tr>\n",
       "      <th>...</th>\n",
       "      <td>...</td>\n",
       "      <td>...</td>\n",
       "      <td>...</td>\n",
       "      <td>...</td>\n",
       "      <td>...</td>\n",
       "      <td>...</td>\n",
       "      <td>...</td>\n",
       "      <td>...</td>\n",
       "      <td>...</td>\n",
       "    </tr>\n",
       "    <tr>\n",
       "      <th>202</th>\n",
       "      <td>202</td>\n",
       "      <td>4</td>\n",
       "      <td>6</td>\n",
       "      <td>21</td>\n",
       "      <td>53</td>\n",
       "      <td>Male</td>\n",
       "      <td>0</td>\n",
       "      <td>No</td>\n",
       "      <td>74.00</td>\n",
       "    </tr>\n",
       "    <tr>\n",
       "      <th>203</th>\n",
       "      <td>203</td>\n",
       "      <td>5</td>\n",
       "      <td>6</td>\n",
       "      <td>39</td>\n",
       "      <td>65</td>\n",
       "      <td>Male</td>\n",
       "      <td>0</td>\n",
       "      <td>No</td>\n",
       "      <td>95.00</td>\n",
       "    </tr>\n",
       "    <tr>\n",
       "      <th>205</th>\n",
       "      <td>205</td>\n",
       "      <td>5</td>\n",
       "      <td>6</td>\n",
       "      <td>36</td>\n",
       "      <td>61</td>\n",
       "      <td>Male</td>\n",
       "      <td>0</td>\n",
       "      <td>No</td>\n",
       "      <td>88.00</td>\n",
       "    </tr>\n",
       "    <tr>\n",
       "      <th>206</th>\n",
       "      <td>206</td>\n",
       "      <td>5</td>\n",
       "      <td>6</td>\n",
       "      <td>32</td>\n",
       "      <td>62</td>\n",
       "      <td>Male</td>\n",
       "      <td>0</td>\n",
       "      <td>No</td>\n",
       "      <td>94.00</td>\n",
       "    </tr>\n",
       "    <tr>\n",
       "      <th>207</th>\n",
       "      <td>207</td>\n",
       "      <td>5</td>\n",
       "      <td>6</td>\n",
       "      <td>35</td>\n",
       "      <td>59</td>\n",
       "      <td>Male</td>\n",
       "      <td>0</td>\n",
       "      <td>No</td>\n",
       "      <td>30.00</td>\n",
       "    </tr>\n",
       "  </tbody>\n",
       "</table>\n",
       "<p>74 rows × 9 columns</p>\n",
       "</div>"
      ],
      "text/plain": [
       "     Employee  EducLev  JobGrade  YrHired  Age  Gender  YrsPrior PCJob  Salary\n",
       "53         80        5         2        8   40  Female         0    No   29.65\n",
       "55         82        5         2        4   29  Female         4    No   29.80\n",
       "58         90        5         2        3   35  Female         2    No   29.60\n",
       "61         97        4         2        5   29  Female         0    No   33.00\n",
       "67        105        5         3        7   32  Female         3    No   41.40\n",
       "..        ...      ...       ...      ...  ...     ...       ...   ...     ...\n",
       "202       202        4         6       21   53    Male         0    No   74.00\n",
       "203       203        5         6       39   65    Male         0    No   95.00\n",
       "205       205        5         6       36   61    Male         0    No   88.00\n",
       "206       206        5         6       32   62    Male         0    No   94.00\n",
       "207       207        5         6       35   59    Male         0    No   30.00\n",
       "\n",
       "[74 rows x 9 columns]"
      ]
     },
     "execution_count": 24,
     "metadata": {},
     "output_type": "execute_result"
    }
   ],
   "source": [
    "data[data['EducLev']>=4]"
   ]
  },
  {
   "cell_type": "code",
   "execution_count": 25,
   "id": "9208da8b",
   "metadata": {},
   "outputs": [
    {
     "data": {
      "text/html": [
       "<div>\n",
       "<style scoped>\n",
       "    .dataframe tbody tr th:only-of-type {\n",
       "        vertical-align: middle;\n",
       "    }\n",
       "\n",
       "    .dataframe tbody tr th {\n",
       "        vertical-align: top;\n",
       "    }\n",
       "\n",
       "    .dataframe thead th {\n",
       "        text-align: right;\n",
       "    }\n",
       "</style>\n",
       "<table border=\"1\" class=\"dataframe\">\n",
       "  <thead>\n",
       "    <tr style=\"text-align: right;\">\n",
       "      <th></th>\n",
       "      <th>Employee</th>\n",
       "      <th>EducLev</th>\n",
       "      <th>JobGrade</th>\n",
       "      <th>YrHired</th>\n",
       "      <th>Age</th>\n",
       "      <th>Gender</th>\n",
       "      <th>YrsPrior</th>\n",
       "      <th>PCJob</th>\n",
       "      <th>Salary</th>\n",
       "    </tr>\n",
       "  </thead>\n",
       "  <tbody>\n",
       "    <tr>\n",
       "      <th>53</th>\n",
       "      <td>80</td>\n",
       "      <td>5</td>\n",
       "      <td>2</td>\n",
       "      <td>8</td>\n",
       "      <td>40</td>\n",
       "      <td>Female</td>\n",
       "      <td>0</td>\n",
       "      <td>No</td>\n",
       "      <td>29.65</td>\n",
       "    </tr>\n",
       "    <tr>\n",
       "      <th>55</th>\n",
       "      <td>82</td>\n",
       "      <td>5</td>\n",
       "      <td>2</td>\n",
       "      <td>4</td>\n",
       "      <td>29</td>\n",
       "      <td>Female</td>\n",
       "      <td>4</td>\n",
       "      <td>No</td>\n",
       "      <td>29.80</td>\n",
       "    </tr>\n",
       "    <tr>\n",
       "      <th>58</th>\n",
       "      <td>90</td>\n",
       "      <td>5</td>\n",
       "      <td>2</td>\n",
       "      <td>3</td>\n",
       "      <td>35</td>\n",
       "      <td>Female</td>\n",
       "      <td>2</td>\n",
       "      <td>No</td>\n",
       "      <td>29.60</td>\n",
       "    </tr>\n",
       "    <tr>\n",
       "      <th>61</th>\n",
       "      <td>97</td>\n",
       "      <td>4</td>\n",
       "      <td>2</td>\n",
       "      <td>5</td>\n",
       "      <td>29</td>\n",
       "      <td>Female</td>\n",
       "      <td>0</td>\n",
       "      <td>No</td>\n",
       "      <td>33.00</td>\n",
       "    </tr>\n",
       "    <tr>\n",
       "      <th>67</th>\n",
       "      <td>105</td>\n",
       "      <td>5</td>\n",
       "      <td>3</td>\n",
       "      <td>7</td>\n",
       "      <td>32</td>\n",
       "      <td>Female</td>\n",
       "      <td>3</td>\n",
       "      <td>No</td>\n",
       "      <td>41.40</td>\n",
       "    </tr>\n",
       "    <tr>\n",
       "      <th>...</th>\n",
       "      <td>...</td>\n",
       "      <td>...</td>\n",
       "      <td>...</td>\n",
       "      <td>...</td>\n",
       "      <td>...</td>\n",
       "      <td>...</td>\n",
       "      <td>...</td>\n",
       "      <td>...</td>\n",
       "      <td>...</td>\n",
       "    </tr>\n",
       "    <tr>\n",
       "      <th>202</th>\n",
       "      <td>202</td>\n",
       "      <td>4</td>\n",
       "      <td>6</td>\n",
       "      <td>21</td>\n",
       "      <td>53</td>\n",
       "      <td>Male</td>\n",
       "      <td>0</td>\n",
       "      <td>No</td>\n",
       "      <td>74.00</td>\n",
       "    </tr>\n",
       "    <tr>\n",
       "      <th>203</th>\n",
       "      <td>203</td>\n",
       "      <td>5</td>\n",
       "      <td>6</td>\n",
       "      <td>39</td>\n",
       "      <td>65</td>\n",
       "      <td>Male</td>\n",
       "      <td>0</td>\n",
       "      <td>No</td>\n",
       "      <td>95.00</td>\n",
       "    </tr>\n",
       "    <tr>\n",
       "      <th>205</th>\n",
       "      <td>205</td>\n",
       "      <td>5</td>\n",
       "      <td>6</td>\n",
       "      <td>36</td>\n",
       "      <td>61</td>\n",
       "      <td>Male</td>\n",
       "      <td>0</td>\n",
       "      <td>No</td>\n",
       "      <td>88.00</td>\n",
       "    </tr>\n",
       "    <tr>\n",
       "      <th>206</th>\n",
       "      <td>206</td>\n",
       "      <td>5</td>\n",
       "      <td>6</td>\n",
       "      <td>32</td>\n",
       "      <td>62</td>\n",
       "      <td>Male</td>\n",
       "      <td>0</td>\n",
       "      <td>No</td>\n",
       "      <td>94.00</td>\n",
       "    </tr>\n",
       "    <tr>\n",
       "      <th>207</th>\n",
       "      <td>207</td>\n",
       "      <td>5</td>\n",
       "      <td>6</td>\n",
       "      <td>35</td>\n",
       "      <td>59</td>\n",
       "      <td>Male</td>\n",
       "      <td>0</td>\n",
       "      <td>No</td>\n",
       "      <td>30.00</td>\n",
       "    </tr>\n",
       "  </tbody>\n",
       "</table>\n",
       "<p>74 rows × 9 columns</p>\n",
       "</div>"
      ],
      "text/plain": [
       "     Employee  EducLev  JobGrade  YrHired  Age  Gender  YrsPrior PCJob  Salary\n",
       "53         80        5         2        8   40  Female         0    No   29.65\n",
       "55         82        5         2        4   29  Female         4    No   29.80\n",
       "58         90        5         2        3   35  Female         2    No   29.60\n",
       "61         97        4         2        5   29  Female         0    No   33.00\n",
       "67        105        5         3        7   32  Female         3    No   41.40\n",
       "..        ...      ...       ...      ...  ...     ...       ...   ...     ...\n",
       "202       202        4         6       21   53    Male         0    No   74.00\n",
       "203       203        5         6       39   65    Male         0    No   95.00\n",
       "205       205        5         6       36   61    Male         0    No   88.00\n",
       "206       206        5         6       32   62    Male         0    No   94.00\n",
       "207       207        5         6       35   59    Male         0    No   30.00\n",
       "\n",
       "[74 rows x 9 columns]"
      ]
     },
     "execution_count": 25,
     "metadata": {},
     "output_type": "execute_result"
    }
   ],
   "source": [
    "manager =[4,5,6]\n",
    "data[data['EducLev'].isin(manager)]"
   ]
  },
  {
   "cell_type": "markdown",
   "id": "a8fdd07d",
   "metadata": {},
   "source": [
    "### 2.1.Data Encoding"
   ]
  },
  {
   "cell_type": "code",
   "execution_count": 26,
   "id": "8e45af13",
   "metadata": {},
   "outputs": [
    {
     "data": {
      "text/html": [
       "<div>\n",
       "<style scoped>\n",
       "    .dataframe tbody tr th:only-of-type {\n",
       "        vertical-align: middle;\n",
       "    }\n",
       "\n",
       "    .dataframe tbody tr th {\n",
       "        vertical-align: top;\n",
       "    }\n",
       "\n",
       "    .dataframe thead th {\n",
       "        text-align: right;\n",
       "    }\n",
       "</style>\n",
       "<table border=\"1\" class=\"dataframe\">\n",
       "  <thead>\n",
       "    <tr style=\"text-align: right;\">\n",
       "      <th></th>\n",
       "      <th>Employee</th>\n",
       "      <th>EducLev</th>\n",
       "      <th>JobGrade</th>\n",
       "      <th>YrHired</th>\n",
       "      <th>Age</th>\n",
       "      <th>Gender</th>\n",
       "      <th>YrsPrior</th>\n",
       "      <th>PCJob</th>\n",
       "      <th>Salary</th>\n",
       "      <th>Dummy</th>\n",
       "    </tr>\n",
       "  </thead>\n",
       "  <tbody>\n",
       "    <tr>\n",
       "      <th>0</th>\n",
       "      <td>2</td>\n",
       "      <td>1</td>\n",
       "      <td>1</td>\n",
       "      <td>14</td>\n",
       "      <td>38</td>\n",
       "      <td>Female</td>\n",
       "      <td>1</td>\n",
       "      <td>No</td>\n",
       "      <td>32.0</td>\n",
       "      <td>0</td>\n",
       "    </tr>\n",
       "    <tr>\n",
       "      <th>1</th>\n",
       "      <td>3</td>\n",
       "      <td>1</td>\n",
       "      <td>1</td>\n",
       "      <td>12</td>\n",
       "      <td>35</td>\n",
       "      <td>Female</td>\n",
       "      <td>0</td>\n",
       "      <td>No</td>\n",
       "      <td>39.1</td>\n",
       "      <td>0</td>\n",
       "    </tr>\n",
       "    <tr>\n",
       "      <th>2</th>\n",
       "      <td>4</td>\n",
       "      <td>2</td>\n",
       "      <td>1</td>\n",
       "      <td>8</td>\n",
       "      <td>40</td>\n",
       "      <td>Female</td>\n",
       "      <td>7</td>\n",
       "      <td>No</td>\n",
       "      <td>33.2</td>\n",
       "      <td>0</td>\n",
       "    </tr>\n",
       "    <tr>\n",
       "      <th>3</th>\n",
       "      <td>6</td>\n",
       "      <td>3</td>\n",
       "      <td>1</td>\n",
       "      <td>3</td>\n",
       "      <td>24</td>\n",
       "      <td>Female</td>\n",
       "      <td>0</td>\n",
       "      <td>No</td>\n",
       "      <td>30.6</td>\n",
       "      <td>0</td>\n",
       "    </tr>\n",
       "    <tr>\n",
       "      <th>4</th>\n",
       "      <td>7</td>\n",
       "      <td>3</td>\n",
       "      <td>1</td>\n",
       "      <td>4</td>\n",
       "      <td>27</td>\n",
       "      <td>Female</td>\n",
       "      <td>0</td>\n",
       "      <td>No</td>\n",
       "      <td>29.0</td>\n",
       "      <td>0</td>\n",
       "    </tr>\n",
       "  </tbody>\n",
       "</table>\n",
       "</div>"
      ],
      "text/plain": [
       "   Employee  EducLev  JobGrade  YrHired  Age  Gender  YrsPrior PCJob  Salary  \\\n",
       "0         2        1         1       14   38  Female         1    No    32.0   \n",
       "1         3        1         1       12   35  Female         0    No    39.1   \n",
       "2         4        2         1        8   40  Female         7    No    33.2   \n",
       "3         6        3         1        3   24  Female         0    No    30.6   \n",
       "4         7        3         1        4   27  Female         0    No    29.0   \n",
       "\n",
       "   Dummy  \n",
       "0      0  \n",
       "1      0  \n",
       "2      0  \n",
       "3      0  \n",
       "4      0  "
      ]
     },
     "execution_count": 26,
     "metadata": {},
     "output_type": "execute_result"
    }
   ],
   "source": [
    "data['Dummy']=0\n",
    "data.head()"
   ]
  },
  {
   "cell_type": "code",
   "execution_count": 27,
   "id": "bd64746c",
   "metadata": {},
   "outputs": [
    {
     "data": {
      "text/html": [
       "<div>\n",
       "<style scoped>\n",
       "    .dataframe tbody tr th:only-of-type {\n",
       "        vertical-align: middle;\n",
       "    }\n",
       "\n",
       "    .dataframe tbody tr th {\n",
       "        vertical-align: top;\n",
       "    }\n",
       "\n",
       "    .dataframe thead th {\n",
       "        text-align: right;\n",
       "    }\n",
       "</style>\n",
       "<table border=\"1\" class=\"dataframe\">\n",
       "  <thead>\n",
       "    <tr style=\"text-align: right;\">\n",
       "      <th></th>\n",
       "      <th>Employee</th>\n",
       "      <th>EducLev</th>\n",
       "      <th>JobGrade</th>\n",
       "      <th>YrHired</th>\n",
       "      <th>Age</th>\n",
       "      <th>Gender</th>\n",
       "      <th>YrsPrior</th>\n",
       "      <th>PCJob</th>\n",
       "      <th>Salary</th>\n",
       "    </tr>\n",
       "  </thead>\n",
       "  <tbody>\n",
       "    <tr>\n",
       "      <th>0</th>\n",
       "      <td>2</td>\n",
       "      <td>1</td>\n",
       "      <td>1</td>\n",
       "      <td>14</td>\n",
       "      <td>38</td>\n",
       "      <td>Female</td>\n",
       "      <td>1</td>\n",
       "      <td>No</td>\n",
       "      <td>32.0</td>\n",
       "    </tr>\n",
       "    <tr>\n",
       "      <th>1</th>\n",
       "      <td>3</td>\n",
       "      <td>1</td>\n",
       "      <td>1</td>\n",
       "      <td>12</td>\n",
       "      <td>35</td>\n",
       "      <td>Female</td>\n",
       "      <td>0</td>\n",
       "      <td>No</td>\n",
       "      <td>39.1</td>\n",
       "    </tr>\n",
       "    <tr>\n",
       "      <th>2</th>\n",
       "      <td>4</td>\n",
       "      <td>2</td>\n",
       "      <td>1</td>\n",
       "      <td>8</td>\n",
       "      <td>40</td>\n",
       "      <td>Female</td>\n",
       "      <td>7</td>\n",
       "      <td>No</td>\n",
       "      <td>33.2</td>\n",
       "    </tr>\n",
       "    <tr>\n",
       "      <th>3</th>\n",
       "      <td>6</td>\n",
       "      <td>3</td>\n",
       "      <td>1</td>\n",
       "      <td>3</td>\n",
       "      <td>24</td>\n",
       "      <td>Female</td>\n",
       "      <td>0</td>\n",
       "      <td>No</td>\n",
       "      <td>30.6</td>\n",
       "    </tr>\n",
       "    <tr>\n",
       "      <th>4</th>\n",
       "      <td>7</td>\n",
       "      <td>3</td>\n",
       "      <td>1</td>\n",
       "      <td>4</td>\n",
       "      <td>27</td>\n",
       "      <td>Female</td>\n",
       "      <td>0</td>\n",
       "      <td>No</td>\n",
       "      <td>29.0</td>\n",
       "    </tr>\n",
       "  </tbody>\n",
       "</table>\n",
       "</div>"
      ],
      "text/plain": [
       "   Employee  EducLev  JobGrade  YrHired  Age  Gender  YrsPrior PCJob  Salary\n",
       "0         2        1         1       14   38  Female         1    No    32.0\n",
       "1         3        1         1       12   35  Female         0    No    39.1\n",
       "2         4        2         1        8   40  Female         7    No    33.2\n",
       "3         6        3         1        3   24  Female         0    No    30.6\n",
       "4         7        3         1        4   27  Female         0    No    29.0"
      ]
     },
     "execution_count": 27,
     "metadata": {},
     "output_type": "execute_result"
    }
   ],
   "source": [
    "data.drop(columns=['Dummy'], inplace=True)\n",
    "data.head()"
   ]
  },
  {
   "cell_type": "code",
   "execution_count": 28,
   "id": "6d9c6f4e",
   "metadata": {},
   "outputs": [
    {
     "data": {
      "text/html": [
       "<div>\n",
       "<style scoped>\n",
       "    .dataframe tbody tr th:only-of-type {\n",
       "        vertical-align: middle;\n",
       "    }\n",
       "\n",
       "    .dataframe tbody tr th {\n",
       "        vertical-align: top;\n",
       "    }\n",
       "\n",
       "    .dataframe thead th {\n",
       "        text-align: right;\n",
       "    }\n",
       "</style>\n",
       "<table border=\"1\" class=\"dataframe\">\n",
       "  <thead>\n",
       "    <tr style=\"text-align: right;\">\n",
       "      <th></th>\n",
       "      <th>Employee</th>\n",
       "      <th>EducLev</th>\n",
       "      <th>JobGrade</th>\n",
       "      <th>YrHired</th>\n",
       "      <th>Age</th>\n",
       "      <th>Gender</th>\n",
       "      <th>YrsPrior</th>\n",
       "      <th>PCJob</th>\n",
       "      <th>Salary</th>\n",
       "      <th>GenderDummy_F</th>\n",
       "    </tr>\n",
       "  </thead>\n",
       "  <tbody>\n",
       "    <tr>\n",
       "      <th>0</th>\n",
       "      <td>2</td>\n",
       "      <td>1</td>\n",
       "      <td>1</td>\n",
       "      <td>14</td>\n",
       "      <td>38</td>\n",
       "      <td>Female</td>\n",
       "      <td>1</td>\n",
       "      <td>No</td>\n",
       "      <td>32.0</td>\n",
       "      <td>1</td>\n",
       "    </tr>\n",
       "    <tr>\n",
       "      <th>1</th>\n",
       "      <td>3</td>\n",
       "      <td>1</td>\n",
       "      <td>1</td>\n",
       "      <td>12</td>\n",
       "      <td>35</td>\n",
       "      <td>Female</td>\n",
       "      <td>0</td>\n",
       "      <td>No</td>\n",
       "      <td>39.1</td>\n",
       "      <td>1</td>\n",
       "    </tr>\n",
       "    <tr>\n",
       "      <th>2</th>\n",
       "      <td>4</td>\n",
       "      <td>2</td>\n",
       "      <td>1</td>\n",
       "      <td>8</td>\n",
       "      <td>40</td>\n",
       "      <td>Female</td>\n",
       "      <td>7</td>\n",
       "      <td>No</td>\n",
       "      <td>33.2</td>\n",
       "      <td>1</td>\n",
       "    </tr>\n",
       "    <tr>\n",
       "      <th>3</th>\n",
       "      <td>6</td>\n",
       "      <td>3</td>\n",
       "      <td>1</td>\n",
       "      <td>3</td>\n",
       "      <td>24</td>\n",
       "      <td>Female</td>\n",
       "      <td>0</td>\n",
       "      <td>No</td>\n",
       "      <td>30.6</td>\n",
       "      <td>1</td>\n",
       "    </tr>\n",
       "    <tr>\n",
       "      <th>4</th>\n",
       "      <td>7</td>\n",
       "      <td>3</td>\n",
       "      <td>1</td>\n",
       "      <td>4</td>\n",
       "      <td>27</td>\n",
       "      <td>Female</td>\n",
       "      <td>0</td>\n",
       "      <td>No</td>\n",
       "      <td>29.0</td>\n",
       "      <td>1</td>\n",
       "    </tr>\n",
       "  </tbody>\n",
       "</table>\n",
       "</div>"
      ],
      "text/plain": [
       "   Employee  EducLev  JobGrade  YrHired  Age  Gender  YrsPrior PCJob  Salary  \\\n",
       "0         2        1         1       14   38  Female         1    No    32.0   \n",
       "1         3        1         1       12   35  Female         0    No    39.1   \n",
       "2         4        2         1        8   40  Female         7    No    33.2   \n",
       "3         6        3         1        3   24  Female         0    No    30.6   \n",
       "4         7        3         1        4   27  Female         0    No    29.0   \n",
       "\n",
       "   GenderDummy_F  \n",
       "0              1  \n",
       "1              1  \n",
       "2              1  \n",
       "3              1  \n",
       "4              1  "
      ]
     },
     "execution_count": 28,
     "metadata": {},
     "output_type": "execute_result"
    }
   ],
   "source": [
    "data['GenderDummy_F']=np.where(data['Gender']=='Female',1,0) # We have added a new column GenderDummy_F\n",
    "data.head()"
   ]
  },
  {
   "cell_type": "markdown",
   "id": "b8fe26fc",
   "metadata": {},
   "source": [
    "### 2.2. Applying logic function"
   ]
  },
  {
   "cell_type": "code",
   "execution_count": 29,
   "id": "5af85887",
   "metadata": {},
   "outputs": [],
   "source": [
    "def my_encode(gender):\n",
    "    if gender == 'Female':\n",
    "        return 1\n",
    "    else: \n",
    "        return 0"
   ]
  },
  {
   "cell_type": "code",
   "execution_count": 30,
   "id": "9c4fde07",
   "metadata": {},
   "outputs": [
    {
     "data": {
      "text/plain": [
       "(1, 0)"
      ]
     },
     "execution_count": 30,
     "metadata": {},
     "output_type": "execute_result"
    }
   ],
   "source": [
    "my_encode('Female'), my_encode('Male')"
   ]
  },
  {
   "cell_type": "code",
   "execution_count": 31,
   "id": "94f7835e",
   "metadata": {},
   "outputs": [
    {
     "data": {
      "text/html": [
       "<div>\n",
       "<style scoped>\n",
       "    .dataframe tbody tr th:only-of-type {\n",
       "        vertical-align: middle;\n",
       "    }\n",
       "\n",
       "    .dataframe tbody tr th {\n",
       "        vertical-align: top;\n",
       "    }\n",
       "\n",
       "    .dataframe thead th {\n",
       "        text-align: right;\n",
       "    }\n",
       "</style>\n",
       "<table border=\"1\" class=\"dataframe\">\n",
       "  <thead>\n",
       "    <tr style=\"text-align: right;\">\n",
       "      <th></th>\n",
       "      <th>Employee</th>\n",
       "      <th>EducLev</th>\n",
       "      <th>JobGrade</th>\n",
       "      <th>YrHired</th>\n",
       "      <th>Age</th>\n",
       "      <th>Gender</th>\n",
       "      <th>YrsPrior</th>\n",
       "      <th>PCJob</th>\n",
       "      <th>Salary</th>\n",
       "      <th>GenderDummy_F</th>\n",
       "    </tr>\n",
       "  </thead>\n",
       "  <tbody>\n",
       "    <tr>\n",
       "      <th>0</th>\n",
       "      <td>2</td>\n",
       "      <td>1</td>\n",
       "      <td>1</td>\n",
       "      <td>14</td>\n",
       "      <td>38</td>\n",
       "      <td>Female</td>\n",
       "      <td>1</td>\n",
       "      <td>No</td>\n",
       "      <td>32.0</td>\n",
       "      <td>1</td>\n",
       "    </tr>\n",
       "    <tr>\n",
       "      <th>1</th>\n",
       "      <td>3</td>\n",
       "      <td>1</td>\n",
       "      <td>1</td>\n",
       "      <td>12</td>\n",
       "      <td>35</td>\n",
       "      <td>Female</td>\n",
       "      <td>0</td>\n",
       "      <td>No</td>\n",
       "      <td>39.1</td>\n",
       "      <td>1</td>\n",
       "    </tr>\n",
       "    <tr>\n",
       "      <th>2</th>\n",
       "      <td>4</td>\n",
       "      <td>2</td>\n",
       "      <td>1</td>\n",
       "      <td>8</td>\n",
       "      <td>40</td>\n",
       "      <td>Female</td>\n",
       "      <td>7</td>\n",
       "      <td>No</td>\n",
       "      <td>33.2</td>\n",
       "      <td>1</td>\n",
       "    </tr>\n",
       "    <tr>\n",
       "      <th>3</th>\n",
       "      <td>6</td>\n",
       "      <td>3</td>\n",
       "      <td>1</td>\n",
       "      <td>3</td>\n",
       "      <td>24</td>\n",
       "      <td>Female</td>\n",
       "      <td>0</td>\n",
       "      <td>No</td>\n",
       "      <td>30.6</td>\n",
       "      <td>1</td>\n",
       "    </tr>\n",
       "    <tr>\n",
       "      <th>4</th>\n",
       "      <td>7</td>\n",
       "      <td>3</td>\n",
       "      <td>1</td>\n",
       "      <td>4</td>\n",
       "      <td>27</td>\n",
       "      <td>Female</td>\n",
       "      <td>0</td>\n",
       "      <td>No</td>\n",
       "      <td>29.0</td>\n",
       "      <td>1</td>\n",
       "    </tr>\n",
       "  </tbody>\n",
       "</table>\n",
       "</div>"
      ],
      "text/plain": [
       "   Employee  EducLev  JobGrade  YrHired  Age  Gender  YrsPrior PCJob  Salary  \\\n",
       "0         2        1         1       14   38  Female         1    No    32.0   \n",
       "1         3        1         1       12   35  Female         0    No    39.1   \n",
       "2         4        2         1        8   40  Female         7    No    33.2   \n",
       "3         6        3         1        3   24  Female         0    No    30.6   \n",
       "4         7        3         1        4   27  Female         0    No    29.0   \n",
       "\n",
       "  GenderDummy_F  \n",
       "0             1  \n",
       "1             1  \n",
       "2             1  \n",
       "3             1  \n",
       "4             1  "
      ]
     },
     "execution_count": 31,
     "metadata": {},
     "output_type": "execute_result"
    }
   ],
   "source": [
    "data['GenderDummy_F']=data['Gender'].apply(my_encode)\n",
    "data.head()"
   ]
  },
  {
   "cell_type": "markdown",
   "id": "ea2b695e",
   "metadata": {},
   "source": [
    "### 2.3. Applying Lambda function"
   ]
  },
  {
   "cell_type": "code",
   "execution_count": 32,
   "id": "8775ef50",
   "metadata": {},
   "outputs": [
    {
     "data": {
      "text/html": [
       "<div>\n",
       "<style scoped>\n",
       "    .dataframe tbody tr th:only-of-type {\n",
       "        vertical-align: middle;\n",
       "    }\n",
       "\n",
       "    .dataframe tbody tr th {\n",
       "        vertical-align: top;\n",
       "    }\n",
       "\n",
       "    .dataframe thead th {\n",
       "        text-align: right;\n",
       "    }\n",
       "</style>\n",
       "<table border=\"1\" class=\"dataframe\">\n",
       "  <thead>\n",
       "    <tr style=\"text-align: right;\">\n",
       "      <th></th>\n",
       "      <th>Employee</th>\n",
       "      <th>EducLev</th>\n",
       "      <th>JobGrade</th>\n",
       "      <th>YrHired</th>\n",
       "      <th>Age</th>\n",
       "      <th>Gender</th>\n",
       "      <th>YrsPrior</th>\n",
       "      <th>PCJob</th>\n",
       "      <th>Salary</th>\n",
       "      <th>GenderDummy_F</th>\n",
       "    </tr>\n",
       "  </thead>\n",
       "  <tbody>\n",
       "    <tr>\n",
       "      <th>0</th>\n",
       "      <td>2</td>\n",
       "      <td>1</td>\n",
       "      <td>1</td>\n",
       "      <td>14</td>\n",
       "      <td>38</td>\n",
       "      <td>Female</td>\n",
       "      <td>1</td>\n",
       "      <td>No</td>\n",
       "      <td>32.0</td>\n",
       "      <td>1</td>\n",
       "    </tr>\n",
       "    <tr>\n",
       "      <th>1</th>\n",
       "      <td>3</td>\n",
       "      <td>1</td>\n",
       "      <td>1</td>\n",
       "      <td>12</td>\n",
       "      <td>35</td>\n",
       "      <td>Female</td>\n",
       "      <td>0</td>\n",
       "      <td>No</td>\n",
       "      <td>39.1</td>\n",
       "      <td>1</td>\n",
       "    </tr>\n",
       "    <tr>\n",
       "      <th>2</th>\n",
       "      <td>4</td>\n",
       "      <td>2</td>\n",
       "      <td>1</td>\n",
       "      <td>8</td>\n",
       "      <td>40</td>\n",
       "      <td>Female</td>\n",
       "      <td>7</td>\n",
       "      <td>No</td>\n",
       "      <td>33.2</td>\n",
       "      <td>1</td>\n",
       "    </tr>\n",
       "    <tr>\n",
       "      <th>3</th>\n",
       "      <td>6</td>\n",
       "      <td>3</td>\n",
       "      <td>1</td>\n",
       "      <td>3</td>\n",
       "      <td>24</td>\n",
       "      <td>Female</td>\n",
       "      <td>0</td>\n",
       "      <td>No</td>\n",
       "      <td>30.6</td>\n",
       "      <td>1</td>\n",
       "    </tr>\n",
       "    <tr>\n",
       "      <th>4</th>\n",
       "      <td>7</td>\n",
       "      <td>3</td>\n",
       "      <td>1</td>\n",
       "      <td>4</td>\n",
       "      <td>27</td>\n",
       "      <td>Female</td>\n",
       "      <td>0</td>\n",
       "      <td>No</td>\n",
       "      <td>29.0</td>\n",
       "      <td>1</td>\n",
       "    </tr>\n",
       "  </tbody>\n",
       "</table>\n",
       "</div>"
      ],
      "text/plain": [
       "   Employee  EducLev  JobGrade  YrHired  Age  Gender  YrsPrior PCJob  Salary  \\\n",
       "0         2        1         1       14   38  Female         1    No    32.0   \n",
       "1         3        1         1       12   35  Female         0    No    39.1   \n",
       "2         4        2         1        8   40  Female         7    No    33.2   \n",
       "3         6        3         1        3   24  Female         0    No    30.6   \n",
       "4         7        3         1        4   27  Female         0    No    29.0   \n",
       "\n",
       "  GenderDummy_F  \n",
       "0             1  \n",
       "1             1  \n",
       "2             1  \n",
       "3             1  \n",
       "4             1  "
      ]
     },
     "execution_count": 32,
     "metadata": {},
     "output_type": "execute_result"
    }
   ],
   "source": [
    "data['GenderDummy_F']=data['Gender'].apply(lambda x: 1 if x == 'Female' else 0) \n",
    "data.head()"
   ]
  },
  {
   "cell_type": "markdown",
   "id": "c7199002",
   "metadata": {},
   "source": [
    "### 2.4. Replacing values from data object list"
   ]
  },
  {
   "cell_type": "code",
   "execution_count": 33,
   "id": "dbf0aadb",
   "metadata": {},
   "outputs": [
    {
     "data": {
      "text/html": [
       "<div>\n",
       "<style scoped>\n",
       "    .dataframe tbody tr th:only-of-type {\n",
       "        vertical-align: middle;\n",
       "    }\n",
       "\n",
       "    .dataframe tbody tr th {\n",
       "        vertical-align: top;\n",
       "    }\n",
       "\n",
       "    .dataframe thead th {\n",
       "        text-align: right;\n",
       "    }\n",
       "</style>\n",
       "<table border=\"1\" class=\"dataframe\">\n",
       "  <thead>\n",
       "    <tr style=\"text-align: right;\">\n",
       "      <th></th>\n",
       "      <th>Employee</th>\n",
       "      <th>EducLev</th>\n",
       "      <th>JobGrade</th>\n",
       "      <th>YrHired</th>\n",
       "      <th>Age</th>\n",
       "      <th>Gender</th>\n",
       "      <th>YrsPrior</th>\n",
       "      <th>PCJob</th>\n",
       "      <th>Salary</th>\n",
       "      <th>GenderDummy_F</th>\n",
       "      <th>Bank Manager</th>\n",
       "    </tr>\n",
       "  </thead>\n",
       "  <tbody>\n",
       "    <tr>\n",
       "      <th>180</th>\n",
       "      <td>160</td>\n",
       "      <td>1</td>\n",
       "      <td>4</td>\n",
       "      <td>23</td>\n",
       "      <td>55</td>\n",
       "      <td>Male</td>\n",
       "      <td>0</td>\n",
       "      <td>No</td>\n",
       "      <td>45.0</td>\n",
       "      <td>0</td>\n",
       "      <td>non-manager</td>\n",
       "    </tr>\n",
       "    <tr>\n",
       "      <th>181</th>\n",
       "      <td>161</td>\n",
       "      <td>3</td>\n",
       "      <td>4</td>\n",
       "      <td>5</td>\n",
       "      <td>52</td>\n",
       "      <td>Male</td>\n",
       "      <td>4</td>\n",
       "      <td>No</td>\n",
       "      <td>52.5</td>\n",
       "      <td>0</td>\n",
       "      <td>non-manager</td>\n",
       "    </tr>\n",
       "    <tr>\n",
       "      <th>182</th>\n",
       "      <td>165</td>\n",
       "      <td>3</td>\n",
       "      <td>4</td>\n",
       "      <td>6</td>\n",
       "      <td>43</td>\n",
       "      <td>Male</td>\n",
       "      <td>4</td>\n",
       "      <td>No</td>\n",
       "      <td>47.5</td>\n",
       "      <td>0</td>\n",
       "      <td>non-manager</td>\n",
       "    </tr>\n",
       "    <tr>\n",
       "      <th>183</th>\n",
       "      <td>174</td>\n",
       "      <td>5</td>\n",
       "      <td>5</td>\n",
       "      <td>7</td>\n",
       "      <td>34</td>\n",
       "      <td>Male</td>\n",
       "      <td>0</td>\n",
       "      <td>No</td>\n",
       "      <td>48.0</td>\n",
       "      <td>0</td>\n",
       "      <td>manager</td>\n",
       "    </tr>\n",
       "    <tr>\n",
       "      <th>184</th>\n",
       "      <td>176</td>\n",
       "      <td>5</td>\n",
       "      <td>5</td>\n",
       "      <td>8</td>\n",
       "      <td>31</td>\n",
       "      <td>Male</td>\n",
       "      <td>0</td>\n",
       "      <td>No</td>\n",
       "      <td>46.5</td>\n",
       "      <td>0</td>\n",
       "      <td>manager</td>\n",
       "    </tr>\n",
       "  </tbody>\n",
       "</table>\n",
       "</div>"
      ],
      "text/plain": [
       "     Employee  EducLev  JobGrade  YrHired  Age Gender  YrsPrior PCJob  Salary  \\\n",
       "180       160        1         4       23   55   Male         0    No    45.0   \n",
       "181       161        3         4        5   52   Male         4    No    52.5   \n",
       "182       165        3         4        6   43   Male         4    No    47.5   \n",
       "183       174        5         5        7   34   Male         0    No    48.0   \n",
       "184       176        5         5        8   31   Male         0    No    46.5   \n",
       "\n",
       "    GenderDummy_F Bank Manager  \n",
       "180             0  non-manager  \n",
       "181             0  non-manager  \n",
       "182             0  non-manager  \n",
       "183             0      manager  \n",
       "184             0      manager  "
      ]
     },
     "execution_count": 33,
     "metadata": {},
     "output_type": "execute_result"
    }
   ],
   "source": [
    "job_grade=[1,2,3,4,5,6]\n",
    "status = ['non-manager', 'non-manager','non-manager','non-manager','manager', 'manager']\n",
    "data['Bank Manager'] = data['JobGrade'].replace(job_grade,status)\n",
    "data[180:185]"
   ]
  },
  {
   "cell_type": "code",
   "execution_count": 34,
   "id": "5a820de1",
   "metadata": {},
   "outputs": [
    {
     "data": {
      "text/html": [
       "<div>\n",
       "<style scoped>\n",
       "    .dataframe tbody tr th:only-of-type {\n",
       "        vertical-align: middle;\n",
       "    }\n",
       "\n",
       "    .dataframe tbody tr th {\n",
       "        vertical-align: top;\n",
       "    }\n",
       "\n",
       "    .dataframe thead th {\n",
       "        text-align: right;\n",
       "    }\n",
       "</style>\n",
       "<table border=\"1\" class=\"dataframe\">\n",
       "  <thead>\n",
       "    <tr style=\"text-align: right;\">\n",
       "      <th></th>\n",
       "      <th>Employee</th>\n",
       "      <th>EducLev</th>\n",
       "      <th>JobGrade</th>\n",
       "      <th>YrHired</th>\n",
       "      <th>Age</th>\n",
       "      <th>Gender</th>\n",
       "      <th>YrsPrior</th>\n",
       "      <th>PCJob</th>\n",
       "      <th>Salary</th>\n",
       "      <th>GenderDummy_F</th>\n",
       "      <th>Bank Manager</th>\n",
       "      <th>GendersDummy_F</th>\n",
       "    </tr>\n",
       "  </thead>\n",
       "  <tbody>\n",
       "    <tr>\n",
       "      <th>0</th>\n",
       "      <td>2</td>\n",
       "      <td>1</td>\n",
       "      <td>1</td>\n",
       "      <td>14</td>\n",
       "      <td>38</td>\n",
       "      <td>Female</td>\n",
       "      <td>1</td>\n",
       "      <td>No</td>\n",
       "      <td>32.0</td>\n",
       "      <td>1</td>\n",
       "      <td>non-manager</td>\n",
       "      <td>1</td>\n",
       "    </tr>\n",
       "    <tr>\n",
       "      <th>1</th>\n",
       "      <td>3</td>\n",
       "      <td>1</td>\n",
       "      <td>1</td>\n",
       "      <td>12</td>\n",
       "      <td>35</td>\n",
       "      <td>Female</td>\n",
       "      <td>0</td>\n",
       "      <td>No</td>\n",
       "      <td>39.1</td>\n",
       "      <td>1</td>\n",
       "      <td>non-manager</td>\n",
       "      <td>1</td>\n",
       "    </tr>\n",
       "    <tr>\n",
       "      <th>2</th>\n",
       "      <td>4</td>\n",
       "      <td>2</td>\n",
       "      <td>1</td>\n",
       "      <td>8</td>\n",
       "      <td>40</td>\n",
       "      <td>Female</td>\n",
       "      <td>7</td>\n",
       "      <td>No</td>\n",
       "      <td>33.2</td>\n",
       "      <td>1</td>\n",
       "      <td>non-manager</td>\n",
       "      <td>1</td>\n",
       "    </tr>\n",
       "    <tr>\n",
       "      <th>3</th>\n",
       "      <td>6</td>\n",
       "      <td>3</td>\n",
       "      <td>1</td>\n",
       "      <td>3</td>\n",
       "      <td>24</td>\n",
       "      <td>Female</td>\n",
       "      <td>0</td>\n",
       "      <td>No</td>\n",
       "      <td>30.6</td>\n",
       "      <td>1</td>\n",
       "      <td>non-manager</td>\n",
       "      <td>1</td>\n",
       "    </tr>\n",
       "    <tr>\n",
       "      <th>4</th>\n",
       "      <td>7</td>\n",
       "      <td>3</td>\n",
       "      <td>1</td>\n",
       "      <td>4</td>\n",
       "      <td>27</td>\n",
       "      <td>Female</td>\n",
       "      <td>0</td>\n",
       "      <td>No</td>\n",
       "      <td>29.0</td>\n",
       "      <td>1</td>\n",
       "      <td>non-manager</td>\n",
       "      <td>1</td>\n",
       "    </tr>\n",
       "  </tbody>\n",
       "</table>\n",
       "</div>"
      ],
      "text/plain": [
       "   Employee  EducLev  JobGrade  YrHired  Age  Gender  YrsPrior PCJob  Salary  \\\n",
       "0         2        1         1       14   38  Female         1    No    32.0   \n",
       "1         3        1         1       12   35  Female         0    No    39.1   \n",
       "2         4        2         1        8   40  Female         7    No    33.2   \n",
       "3         6        3         1        3   24  Female         0    No    30.6   \n",
       "4         7        3         1        4   27  Female         0    No    29.0   \n",
       "\n",
       "  GenderDummy_F Bank Manager GendersDummy_F  \n",
       "0             1  non-manager              1  \n",
       "1             1  non-manager              1  \n",
       "2             1  non-manager              1  \n",
       "3             1  non-manager              1  \n",
       "4             1  non-manager              1  "
      ]
     },
     "execution_count": 34,
     "metadata": {},
     "output_type": "execute_result"
    }
   ],
   "source": [
    "genders=['Female','Male']\n",
    "dummy_vars =[1,0]\n",
    "data['GendersDummy_F'] = data['Gender'].replace(genders, dummy_vars)\n",
    "data.head()"
   ]
  },
  {
   "cell_type": "markdown",
   "id": "2269b981",
   "metadata": {},
   "source": [
    "### 2.5. Variable logging"
   ]
  },
  {
   "cell_type": "code",
   "execution_count": 35,
   "id": "69c4d097",
   "metadata": {},
   "outputs": [],
   "source": [
    "data['logSalary']=np.log(data['Salary'])"
   ]
  },
  {
   "cell_type": "code",
   "execution_count": 36,
   "id": "9104a920",
   "metadata": {},
   "outputs": [
    {
     "data": {
      "image/png": "[encoded data removed]",
      "text/plain": [
       "<Figure size 432x288 with 1 Axes>"
      ]
     },
     "metadata": {
      "needs_background": "light"
     },
     "output_type": "display_data"
    }
   ],
   "source": [
    "sns.kdeplot(x=data['logSalary'], shade = True, linewidth = 2); # make sure to include a semi colon to hide axes"
   ]
  },
  {
   "cell_type": "markdown",
   "id": "7cc05385",
   "metadata": {},
   "source": [
    "### 2.6. Analysis of gaps in continuous variables"
   ]
  },
  {
   "cell_type": "code",
   "execution_count": 37,
   "id": "c1ac2a69",
   "metadata": {},
   "outputs": [
    {
     "data": {
      "image/png": "[encoded data removed]",
      "text/plain": [
       "<Figure size 432x288 with 1 Axes>"
      ]
     },
     "metadata": {
      "needs_background": "light"
     },
     "output_type": "display_data"
    }
   ],
   "source": [
    "sns.boxplot(x=data['Salary'], y=data['Gender'], showcaps = True);"
   ]
  },
  {
   "cell_type": "code",
   "execution_count": 38,
   "id": "af9d1e9f",
   "metadata": {},
   "outputs": [
    {
     "data": {
      "image/png": "[encoded data removed]",
      "text/plain": [
       "<Figure size 432x288 with 1 Axes>"
      ]
     },
     "metadata": {
      "needs_background": "light"
     },
     "output_type": "display_data"
    }
   ],
   "source": [
    "sns.boxplot(x=data['Salary'], y=data['JobGrade'].astype('category'),showcaps=True);\n",
    "#Here we can observe that managers have both higher mean salaries and higher variability in salaries than lower job grades"
   ]
  },
  {
   "cell_type": "markdown",
   "id": "57671b24",
   "metadata": {},
   "source": [
    "### 2.7. Building Histograms"
   ]
  },
  {
   "cell_type": "code",
   "execution_count": 39,
   "id": "6ed8c8fa",
   "metadata": {},
   "outputs": [
    {
     "data": {
      "text/plain": [
       "<seaborn.axisgrid.FacetGrid at 0x252a345b490>"
      ]
     },
     "execution_count": 39,
     "metadata": {},
     "output_type": "execute_result"
    },
    {
     "data": {
      "image/png": "[encoded data removed]",
      "text/plain": [
       "<Figure size 720x360 with 2 Axes>"
      ]
     },
     "metadata": {
      "needs_background": "light"
     },
     "output_type": "display_data"
    }
   ],
   "source": [
    "sns.displot(data, x='Salary', col='Gender', linewidth =0, kde=True)\n",
    "#Here we see a case where male employees salaries are higher than female employees by gender and salary plot"
   ]
  },
  {
   "cell_type": "markdown",
   "id": "4ad08bee",
   "metadata": {},
   "source": [
    "### 2.8. Kernel density plot (kde)"
   ]
  },
  {
   "cell_type": "code",
   "execution_count": 40,
   "id": "6f549526",
   "metadata": {},
   "outputs": [
    {
     "data": {
      "image/png": "[encoded data removed]",
      "text/plain": [
       "<Figure size 432x288 with 1 Axes>"
      ]
     },
     "metadata": {
      "needs_background": "light"
     },
     "output_type": "display_data"
    }
   ],
   "source": [
    "sns.histplot(x='Salary',hue='Gender', data=data,linewidth=0);"
   ]
  },
  {
   "cell_type": "code",
   "execution_count": 41,
   "id": "5a74d12c",
   "metadata": {},
   "outputs": [
    {
     "data": {
      "image/png": "[encoded data removed]",
      "text/plain": [
       "<Figure size 432x288 with 1 Axes>"
      ]
     },
     "metadata": {
      "needs_background": "light"
     },
     "output_type": "display_data"
    }
   ],
   "source": [
    "sns.kdeplot(x='Salary', hue='Gender', data=data, shade=True);"
   ]
  },
  {
   "cell_type": "markdown",
   "id": "b6807455",
   "metadata": {},
   "source": [
    "### 2.9. t-Tests"
   ]
  },
  {
   "cell_type": "code",
   "execution_count": 42,
   "id": "b8a926f8",
   "metadata": {},
   "outputs": [],
   "source": [
    "# We are now going to format the data\n",
    "# We are going to redefine the salary variables by gender, female and male\n",
    "female_sal=data[data['Gender'] == 'Female']['Salary']\n",
    "male_sal=data[data['Gender']=='Male']['Salary'] # created new vectors female_sal and male_sal"
   ]
  },
  {
   "cell_type": "code",
   "execution_count": 43,
   "id": "38c30077",
   "metadata": {},
   "outputs": [
    {
     "data": {
      "text/plain": [
       "0      32.00\n",
       "1      39.10\n",
       "2      33.20\n",
       "3      30.60\n",
       "4      29.00\n",
       "       ...  \n",
       "135    43.50\n",
       "136    42.00\n",
       "137    40.30\n",
       "138    44.00\n",
       "139    40.66\n",
       "Name: Salary, Length: 140, dtype: float64"
      ]
     },
     "execution_count": 43,
     "metadata": {},
     "output_type": "execute_result"
    }
   ],
   "source": [
    "female_sal"
   ]
  },
  {
   "cell_type": "code",
   "execution_count": 44,
   "id": "9b92afc3",
   "metadata": {},
   "outputs": [
    {
     "data": {
      "text/plain": [
       "140    39.70\n",
       "141    45.00\n",
       "142    43.90\n",
       "143    38.00\n",
       "144    39.02\n",
       "       ...  \n",
       "203    95.00\n",
       "204    97.00\n",
       "205    88.00\n",
       "206    94.00\n",
       "207    30.00\n",
       "Name: Salary, Length: 68, dtype: float64"
      ]
     },
     "execution_count": 44,
     "metadata": {},
     "output_type": "execute_result"
    }
   ],
   "source": [
    "male_sal"
   ]
  },
  {
   "cell_type": "markdown",
   "id": "c60cc78c",
   "metadata": {},
   "source": [
    "Here too we can observe the salary disparity between female and male employees by gender"
   ]
  },
  {
   "cell_type": "markdown",
   "id": "3936a0b8",
   "metadata": {},
   "source": [
    "### 3.0. Testing for equality of variance (F-test)"
   ]
  },
  {
   "cell_type": "code",
   "execution_count": 45,
   "id": "72045de0",
   "metadata": {},
   "outputs": [
    {
     "data": {
      "text/plain": [
       "LeveneResult(statistic=23.50846181190304, pvalue=2.446970188404662e-06)"
      ]
     },
     "execution_count": 45,
     "metadata": {},
     "output_type": "execute_result"
    }
   ],
   "source": [
    "stats.levene(female_sal,male_sal)"
   ]
  },
  {
   "cell_type": "markdown",
   "id": "c4ae5c63",
   "metadata": {},
   "source": [
    "#### Running the t-test"
   ]
  },
  {
   "cell_type": "code",
   "execution_count": 46,
   "id": "2f8cdea7",
   "metadata": {},
   "outputs": [
    {
     "data": {
      "text/html": [
       "<table class=\"simpletable\">\n",
       "<caption>Test for equality of means</caption>\n",
       "<tr>\n",
       "      <td></td>         <th>coef</th>     <th>std err</th>      <th>t</th>      <th>P>|t|</th>  <th>[0.025</th>    <th>0.975]</th>  \n",
       "</tr>\n",
       "<tr>\n",
       "  <th>subset #1</th> <td>  -16.0826</td> <td>    1.648</td> <td>   -9.759</td> <td> 0.000</td> <td>  -19.366</td> <td>  -12.799</td>\n",
       "</tr>\n",
       "</table>"
      ],
      "text/plain": [
       "<class 'statsmodels.iolib.table.SimpleTable'>"
      ]
     },
     "execution_count": 46,
     "metadata": {},
     "output_type": "execute_result"
    }
   ],
   "source": [
    "model =sms.CompareMeans.from_data(data[data['Gender']=='Female']['Salary'],data[data['Gender']=='Male']['Salary'])\n",
    "model.summary(usevar='unequal')"
   ]
  },
  {
   "cell_type": "markdown",
   "id": "f3f0b646",
   "metadata": {},
   "source": [
    "### 3.1. Analysis of categorical variables"
   ]
  },
  {
   "cell_type": "code",
   "execution_count": 47,
   "id": "f280b098",
   "metadata": {},
   "outputs": [],
   "source": [
    "grades=[1,2,3,4,5,6]\n",
    "status=['non-manager','non-manager','non-manager','non-manager','manager','manager']\n",
    "data['Bank_Manager']=data['JobGrade'].replace(grades,status)"
   ]
  },
  {
   "cell_type": "code",
   "execution_count": 48,
   "id": "cb97634b",
   "metadata": {},
   "outputs": [
    {
     "data": {
      "text/html": [
       "<div>\n",
       "<style scoped>\n",
       "    .dataframe tbody tr th:only-of-type {\n",
       "        vertical-align: middle;\n",
       "    }\n",
       "\n",
       "    .dataframe tbody tr th {\n",
       "        vertical-align: top;\n",
       "    }\n",
       "\n",
       "    .dataframe thead th {\n",
       "        text-align: right;\n",
       "    }\n",
       "</style>\n",
       "<table border=\"1\" class=\"dataframe\">\n",
       "  <thead>\n",
       "    <tr style=\"text-align: right;\">\n",
       "      <th>Bank_Manager</th>\n",
       "      <th>manager</th>\n",
       "      <th>non-manager</th>\n",
       "      <th>All</th>\n",
       "    </tr>\n",
       "    <tr>\n",
       "      <th>Gender</th>\n",
       "      <th></th>\n",
       "      <th></th>\n",
       "      <th></th>\n",
       "    </tr>\n",
       "  </thead>\n",
       "  <tbody>\n",
       "    <tr>\n",
       "      <th>Female</th>\n",
       "      <td>10</td>\n",
       "      <td>130</td>\n",
       "      <td>140</td>\n",
       "    </tr>\n",
       "    <tr>\n",
       "      <th>Male</th>\n",
       "      <td>25</td>\n",
       "      <td>43</td>\n",
       "      <td>68</td>\n",
       "    </tr>\n",
       "    <tr>\n",
       "      <th>All</th>\n",
       "      <td>35</td>\n",
       "      <td>173</td>\n",
       "      <td>208</td>\n",
       "    </tr>\n",
       "  </tbody>\n",
       "</table>\n",
       "</div>"
      ],
      "text/plain": [
       "Bank_Manager  manager  non-manager  All\n",
       "Gender                                 \n",
       "Female             10          130  140\n",
       "Male               25           43   68\n",
       "All                35          173  208"
      ]
     },
     "execution_count": 48,
     "metadata": {},
     "output_type": "execute_result"
    }
   ],
   "source": [
    "contab_freq =pd.crosstab(data['Gender'], data['Bank_Manager'],margins = True)\n",
    "contab_freq"
   ]
  },
  {
   "cell_type": "markdown",
   "id": "00fee13d",
   "metadata": {},
   "source": [
    "### 3.2. Showing row data in percentages"
   ]
  },
  {
   "cell_type": "code",
   "execution_count": 49,
   "id": "4ec130f2",
   "metadata": {},
   "outputs": [
    {
     "data": {
      "text/html": [
       "<div>\n",
       "<style scoped>\n",
       "    .dataframe tbody tr th:only-of-type {\n",
       "        vertical-align: middle;\n",
       "    }\n",
       "\n",
       "    .dataframe tbody tr th {\n",
       "        vertical-align: top;\n",
       "    }\n",
       "\n",
       "    .dataframe thead th {\n",
       "        text-align: right;\n",
       "    }\n",
       "</style>\n",
       "<table border=\"1\" class=\"dataframe\">\n",
       "  <thead>\n",
       "    <tr style=\"text-align: right;\">\n",
       "      <th>Bank_Manager</th>\n",
       "      <th>manager</th>\n",
       "      <th>non-manager</th>\n",
       "    </tr>\n",
       "    <tr>\n",
       "      <th>Gender</th>\n",
       "      <th></th>\n",
       "      <th></th>\n",
       "    </tr>\n",
       "  </thead>\n",
       "  <tbody>\n",
       "    <tr>\n",
       "      <th>Female</th>\n",
       "      <td>0.071429</td>\n",
       "      <td>0.928571</td>\n",
       "    </tr>\n",
       "    <tr>\n",
       "      <th>Male</th>\n",
       "      <td>0.367647</td>\n",
       "      <td>0.632353</td>\n",
       "    </tr>\n",
       "    <tr>\n",
       "      <th>All</th>\n",
       "      <td>0.168269</td>\n",
       "      <td>0.831731</td>\n",
       "    </tr>\n",
       "  </tbody>\n",
       "</table>\n",
       "</div>"
      ],
      "text/plain": [
       "Bank_Manager   manager  non-manager\n",
       "Gender                             \n",
       "Female        0.071429     0.928571\n",
       "Male          0.367647     0.632353\n",
       "All           0.168269     0.831731"
      ]
     },
     "execution_count": 49,
     "metadata": {},
     "output_type": "execute_result"
    }
   ],
   "source": [
    "contitab_relfreq =pd.crosstab(data['Gender'], data['Bank_Manager'], margins = True, normalize = 'index')\n",
    "contitab_relfreq # No semicolon here"
   ]
  },
  {
   "cell_type": "markdown",
   "id": "1e9aa7ba",
   "metadata": {},
   "source": [
    "Data analysis: We can see here that each row sums to 100%. Therefore, for the total set of female employees, 7% are bank_managers and 93% are non-managers. For males, 37% are managers and 63% are non-managers. The advantage of this presentation is that these percentages are directly comparable even though the majority (140/208) employees of the bank *are female."
   ]
  },
  {
   "cell_type": "markdown",
   "id": "83bc1a99",
   "metadata": {},
   "source": [
    "### 3.3. Statistical analysis test of independence using Chi-squared"
   ]
  },
  {
   "cell_type": "code",
   "execution_count": 50,
   "id": "650c5244",
   "metadata": {},
   "outputs": [
    {
     "data": {
      "text/plain": [
       "(26.617776266575998,\n",
       " 2.479518719230249e-07,\n",
       " 1,\n",
       " array([[ 23.55769231, 116.44230769],\n",
       "        [ 11.44230769,  56.55769231]]))"
      ]
     },
     "execution_count": 50,
     "metadata": {},
     "output_type": "execute_result"
    }
   ],
   "source": [
    "contab_abc=pd.crosstab(data['Gender'], data['Bank_Manager'],margins = False)\n",
    "chi = stats.chi2_contingency(contab_abc)\n",
    "chi"
   ]
  },
  {
   "cell_type": "markdown",
   "id": "1a524b81",
   "metadata": {},
   "source": [
    "The output is a matrix showing the expected frequencies under the assumption in independence. These expected values are quite different from the observed values above."
   ]
  }
 ],
 "metadata": {
  "kernelspec": {
   "display_name": "Python 3 (ipykernel)",
   "language": "python",
   "name": "python3"
  },
  "language_info": {
   "codemirror_mode": {
    "name": "ipython",
    "version": 3
   },
   "file_extension": ".py",
   "mimetype": "text/x-python",
   "name": "python",
   "nbconvert_exporter": "python",
   "pygments_lexer": "ipython3",
   "version": "3.9.12"
  }
 },
 "nbformat": 4,
 "nbformat_minor": 5
}
